{
 "cells": [
  {
   "cell_type": "markdown",
   "id": "3f8c6e49-6785-4dbb-bcc7-cfd249743afe",
   "metadata": {},
   "source": [
    "def <fonksiyon ismi>(argümanlar):   #snake_case\n",
    "    \"\"\"                              \n",
    "    bu kod ne ise yarar             #docstring\n",
    "    \"\"\"\n",
    "    ...                             #return/print"
   ]
  },
  {
   "cell_type": "code",
   "execution_count": 1,
   "id": "5a7ae4b8-99ea-4b83-9107-5a50837c1f26",
   "metadata": {},
   "outputs": [],
   "source": [
    "def bes_bastir():\n",
    "    print(5)"
   ]
  },
  {
   "cell_type": "code",
   "execution_count": 3,
   "id": "65842561-1550-4b21-8402-8c5b08532dc7",
   "metadata": {},
   "outputs": [
    {
     "name": "stdout",
     "output_type": "stream",
     "text": [
      "5\n"
     ]
    }
   ],
   "source": [
    "print(5)"
   ]
  },
  {
   "cell_type": "code",
   "execution_count": 5,
   "id": "3ccb7fa8-5c17-4294-9a72-18bcbf205ff7",
   "metadata": {},
   "outputs": [
    {
     "name": "stdout",
     "output_type": "stream",
     "text": [
      "5\n"
     ]
    }
   ],
   "source": [
    "bes_bastir()"
   ]
  },
  {
   "cell_type": "code",
   "execution_count": 7,
   "id": "cd8f7830-288c-4613-baed-5a1d740de8d6",
   "metadata": {},
   "outputs": [],
   "source": [
    "def bes_dondur():\n",
    "    return 5"
   ]
  },
  {
   "cell_type": "code",
   "execution_count": 11,
   "id": "7004a106-f446-4ad6-8016-e1dc6b711a66",
   "metadata": {},
   "outputs": [
    {
     "data": {
      "text/plain": [
       "5"
      ]
     },
     "execution_count": 11,
     "metadata": {},
     "output_type": "execute_result"
    }
   ],
   "source": [
    "bes_dondur()"
   ]
  },
  {
   "cell_type": "code",
   "execution_count": 13,
   "id": "f50aa3d6-6b65-4100-916f-24caa85eba89",
   "metadata": {},
   "outputs": [
    {
     "name": "stdout",
     "output_type": "stream",
     "text": [
      "5\n",
      "None\n"
     ]
    }
   ],
   "source": [
    "a = bes_bastir()\n",
    "print(a)"
   ]
  },
  {
   "cell_type": "code",
   "execution_count": 15,
   "id": "83c97428-930d-42aa-abc5-c3f26fe7100b",
   "metadata": {},
   "outputs": [
    {
     "name": "stdout",
     "output_type": "stream",
     "text": [
      "5\n"
     ]
    }
   ],
   "source": [
    "b = bes_dondur()\n",
    "print(b)"
   ]
  },
  {
   "cell_type": "code",
   "execution_count": 17,
   "id": "891d4b16-748a-43da-ad6b-0f964f966871",
   "metadata": {},
   "outputs": [],
   "source": [
    "def sayi_dondur(sayi):\n",
    "    return sayi\n"
   ]
  },
  {
   "cell_type": "code",
   "execution_count": 19,
   "id": "9cc5ad34-bf40-4017-a663-ff98ec35ec28",
   "metadata": {},
   "outputs": [
    {
     "data": {
      "text/plain": [
       "10"
      ]
     },
     "execution_count": 19,
     "metadata": {},
     "output_type": "execute_result"
    }
   ],
   "source": [
    "sayi_dondur(10)"
   ]
  },
  {
   "cell_type": "code",
   "execution_count": 21,
   "id": "324b03d5-b409-43fe-ab28-dbb0171029e2",
   "metadata": {},
   "outputs": [
    {
     "data": {
      "text/plain": [
       "54583950"
      ]
     },
     "execution_count": 21,
     "metadata": {},
     "output_type": "execute_result"
    }
   ],
   "source": [
    "sayi_dondur(54583950)"
   ]
  },
  {
   "cell_type": "code",
   "execution_count": 23,
   "id": "e860187f-1d61-4641-93cb-109ddb29e590",
   "metadata": {},
   "outputs": [
    {
     "data": {
      "text/plain": [
       "'slm'"
      ]
     },
     "execution_count": 23,
     "metadata": {},
     "output_type": "execute_result"
    }
   ],
   "source": [
    "sayi_dondur('slm')"
   ]
  },
  {
   "cell_type": "code",
   "execution_count": 25,
   "id": "41c938cc-cd11-4949-9332-6456b0640b37",
   "metadata": {},
   "outputs": [],
   "source": [
    "def sayi_dondur(sayi=250):\n",
    "    return sayi"
   ]
  },
  {
   "cell_type": "code",
   "execution_count": 27,
   "id": "4a00103c-aac7-4065-88f8-1321b990730f",
   "metadata": {},
   "outputs": [
    {
     "data": {
      "text/plain": [
       "85"
      ]
     },
     "execution_count": 27,
     "metadata": {},
     "output_type": "execute_result"
    }
   ],
   "source": [
    "sayi_dondur(85)"
   ]
  },
  {
   "cell_type": "code",
   "execution_count": 29,
   "id": "70b1e81e-644a-4163-9a63-97b107dac6a9",
   "metadata": {},
   "outputs": [
    {
     "data": {
      "text/plain": [
       "250"
      ]
     },
     "execution_count": 29,
     "metadata": {},
     "output_type": "execute_result"
    }
   ],
   "source": [
    "sayi_dondur()"
   ]
  },
  {
   "cell_type": "code",
   "execution_count": 31,
   "id": "af74831b-9506-40e5-b3a1-a35861ffebc3",
   "metadata": {},
   "outputs": [],
   "source": [
    "def buyuk_sayi_dondur(a,b):\n",
    "    if a>b :\n",
    "        return a\n",
    "    elif b>a :\n",
    "        return b"
   ]
  },
  {
   "cell_type": "code",
   "execution_count": 33,
   "id": "2a5acdb8-3eea-47e2-921e-fa6823ff5369",
   "metadata": {},
   "outputs": [
    {
     "data": {
      "text/plain": [
       "10"
      ]
     },
     "execution_count": 33,
     "metadata": {},
     "output_type": "execute_result"
    }
   ],
   "source": [
    "buyuk_sayi_dondur(5,10)"
   ]
  },
  {
   "cell_type": "code",
   "execution_count": 37,
   "id": "24e85a4d-d26c-4f98-9869-f4eae75c1609",
   "metadata": {},
   "outputs": [],
   "source": [
    "def buyuk_sayi_dondur(a,b):\n",
    "    return a\n",
    "    return b"
   ]
  },
  {
   "cell_type": "code",
   "execution_count": 39,
   "id": "baf1fda0-1f62-4ebf-b7d4-28d13d7149ad",
   "metadata": {},
   "outputs": [
    {
     "data": {
      "text/plain": [
       "5"
      ]
     },
     "execution_count": 39,
     "metadata": {},
     "output_type": "execute_result"
    }
   ],
   "source": [
    "buyuk_sayi_dondur(5,10)"
   ]
  }
 ],
 "metadata": {
  "kernelspec": {
   "display_name": "Python 3 (ipykernel)",
   "language": "python",
   "name": "python3"
  },
  "language_info": {
   "codemirror_mode": {
    "name": "ipython",
    "version": 3
   },
   "file_extension": ".py",
   "mimetype": "text/x-python",
   "name": "python",
   "nbconvert_exporter": "python",
   "pygments_lexer": "ipython3",
   "version": "3.12.4"
  }
 },
 "nbformat": 4,
 "nbformat_minor": 5
}
