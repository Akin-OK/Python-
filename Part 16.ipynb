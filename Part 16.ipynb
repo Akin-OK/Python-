{
 "cells": [
  {
   "cell_type": "markdown",
   "id": "df652a24-3ccc-4b49-9633-983c6a1393bd",
   "metadata": {},
   "source": [
    "Function Relations"
   ]
  },
  {
   "cell_type": "code",
   "execution_count": 33,
   "id": "3d09a780-90af-4cd9-80c2-f01f84fb5907",
   "metadata": {},
   "outputs": [],
   "source": [
    "def buyuk_sayi_dondur(a,b):\n",
    "    if a>b :\n",
    "        return a\n",
    "    elif b>a :\n",
    "        return b"
   ]
  },
  {
   "cell_type": "code",
   "execution_count": 39,
   "id": "9ceb611a-646c-4974-944a-d2cf36872b3f",
   "metadata": {},
   "outputs": [],
   "source": [
    "def metin_yazdir(a,b):\n",
    "    buyuk_sayi = buyuk_sayi_dondur(a,b)\n",
    "    sablon_metin = \"{} daha büyüktür\".format(buyuk_sayi)\n",
    "    print(sablon_metin)"
   ]
  },
  {
   "cell_type": "code",
   "execution_count": 41,
   "id": "7a7874f7-5ef8-4318-b361-837c77220d25",
   "metadata": {},
   "outputs": [
    {
     "name": "stdout",
     "output_type": "stream",
     "text": [
      "32 daha büyüktür\n"
     ]
    }
   ],
   "source": [
    "metin_yazdir(12,32)"
   ]
  },
  {
   "cell_type": "markdown",
   "id": "86a36163-1532-4568-ba61-e21f91056789",
   "metadata": {},
   "source": [
    "To return more than one result"
   ]
  },
  {
   "cell_type": "code",
   "execution_count": 45,
   "id": "805df6f5-1809-4770-b91a-7ab125d83f10",
   "metadata": {},
   "outputs": [],
   "source": [
    "def isim_soyisim_ayirma(isim_soyisim):\n",
    "    isim = isim_soyisim.split()[0]\n",
    "    soyisim = isim_soyisim.split()[1]\n",
    "    return isim,soyisim"
   ]
  },
  {
   "cell_type": "code",
   "execution_count": 47,
   "id": "9b4efaf9-3b8c-48fb-9f62-0e53c13094fb",
   "metadata": {},
   "outputs": [
    {
     "data": {
      "text/plain": [
       "('Akin', 'OK')"
      ]
     },
     "execution_count": 47,
     "metadata": {},
     "output_type": "execute_result"
    }
   ],
   "source": [
    "isim_soyisim_ayirma(\"Akin OK\")"
   ]
  },
  {
   "cell_type": "code",
   "execution_count": 51,
   "id": "74351318-b815-4e71-b11e-8aa2a4d438b3",
   "metadata": {},
   "outputs": [
    {
     "name": "stdout",
     "output_type": "stream",
     "text": [
      "Akin\n",
      "Ok\n"
     ]
    }
   ],
   "source": [
    "a,b = isim_soyisim_ayirma('Akin Ok')\n",
    "print(a)\n",
    "print(b)"
   ]
  },
  {
   "cell_type": "markdown",
   "id": "e4a36a17-61ca-48f3-9197-21c3ae093b03",
   "metadata": {},
   "source": [
    "Join"
   ]
  },
  {
   "cell_type": "code",
   "execution_count": 55,
   "id": "f66d08d2-fffc-4425-ba96-a81e265dfdc1",
   "metadata": {},
   "outputs": [
    {
     "data": {
      "text/plain": [
       "'Akin Ok'"
      ]
     },
     "execution_count": 55,
     "metadata": {},
     "output_type": "execute_result"
    }
   ],
   "source": [
    "\" \".join([\"Akin\" , \"Ok\"])"
   ]
  },
  {
   "cell_type": "code",
   "execution_count": 57,
   "id": "7ec78dcf-c5ae-4fee-a549-6a9acfec7dd7",
   "metadata": {},
   "outputs": [
    {
     "data": {
      "text/plain": [
       "'Akin-Ok'"
      ]
     },
     "execution_count": 57,
     "metadata": {},
     "output_type": "execute_result"
    }
   ],
   "source": [
    "\"-\".join([\"Akin\" , \"Ok\"])"
   ]
  },
  {
   "cell_type": "code",
   "execution_count": 61,
   "id": "89cfc5d4-8792-405f-ae33-efc551495916",
   "metadata": {},
   "outputs": [],
   "source": [
    "def isim_soyisim_birlestir(isim,soyisim):\n",
    "    return \" \".join([isim,soyisim])"
   ]
  },
  {
   "cell_type": "code",
   "execution_count": 63,
   "id": "48d4a342-465a-4109-8580-6b81b8e1f712",
   "metadata": {},
   "outputs": [
    {
     "data": {
      "text/plain": [
       "'Akin Ok'"
      ]
     },
     "execution_count": 63,
     "metadata": {},
     "output_type": "execute_result"
    }
   ],
   "source": [
    "isim_soyisim_birlestir('Akin' , 'Ok')"
   ]
  },
  {
   "cell_type": "markdown",
   "id": "fd14c620-852f-425e-a1eb-9438a9dc217a",
   "metadata": {},
   "source": [
    "args"
   ]
  },
  {
   "cell_type": "code",
   "execution_count": 65,
   "id": "0ea41c98-4a0e-4ef6-af17-5fef7aa5c33c",
   "metadata": {},
   "outputs": [],
   "source": [
    "def isim_soyisim_birlestir(*args):\n",
    "    return \" \".join(args)\n",
    "    "
   ]
  },
  {
   "cell_type": "code",
   "execution_count": 67,
   "id": "2ed83d36-ea33-4f6e-88ac-d8887f80c75a",
   "metadata": {},
   "outputs": [
    {
     "data": {
      "text/plain": [
       "'Sena Nehir Su'"
      ]
     },
     "execution_count": 67,
     "metadata": {},
     "output_type": "execute_result"
    }
   ],
   "source": [
    "isim_soyisim_birlestir(\"Sena\" , \"Nehir\" , \"Su\")"
   ]
  },
  {
   "cell_type": "markdown",
   "id": "4810c838-e181-4bf4-ac44-75a25d865221",
   "metadata": {},
   "source": [
    "kwargs"
   ]
  },
  {
   "cell_type": "code",
   "execution_count": 77,
   "id": "bd2383f4-1678-44f3-b8fd-980cd9036686",
   "metadata": {},
   "outputs": [],
   "source": [
    "def gobek_adi_yazdir(**kwargs):\n",
    "    if 'göbekadi' in kwargs:\n",
    "        print(kwargs['göbekadi'])\n",
    "    else:\n",
    "        print('Göbekadi yok')"
   ]
  },
  {
   "cell_type": "code",
   "execution_count": 79,
   "id": "4a9dd583-9921-4dc7-9c36-2d5ddb7c5c30",
   "metadata": {},
   "outputs": [
    {
     "name": "stdout",
     "output_type": "stream",
     "text": [
      "Nehir\n"
     ]
    }
   ],
   "source": [
    "gobek_adi_yazdir(adi = 'Sena' , göbekadi = 'Nehir' , soyismi = 'Su')"
   ]
  },
  {
   "cell_type": "code",
   "execution_count": 83,
   "id": "c23af302-2e6d-4192-867a-484affa612a2",
   "metadata": {},
   "outputs": [
    {
     "name": "stdout",
     "output_type": "stream",
     "text": [
      "Göbekadi yok\n"
     ]
    }
   ],
   "source": [
    "gobek_adi_yazdir(adi = 'Akin' , soyismi = 'Ok')"
   ]
  }
 ],
 "metadata": {
  "kernelspec": {
   "display_name": "Python 3 (ipykernel)",
   "language": "python",
   "name": "python3"
  },
  "language_info": {
   "codemirror_mode": {
    "name": "ipython",
    "version": 3
   },
   "file_extension": ".py",
   "mimetype": "text/x-python",
   "name": "python",
   "nbconvert_exporter": "python",
   "pygments_lexer": "ipython3",
   "version": "3.12.4"
  }
 },
 "nbformat": 4,
 "nbformat_minor": 5
}
