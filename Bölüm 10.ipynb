{
 "cells": [
  {
   "cell_type": "code",
   "execution_count": 17,
   "id": "58ac7ab5-0403-4be2-8eba-c5a1306e7551",
   "metadata": {},
   "outputs": [],
   "source": [
    "kisiler = [\"Akin Ok\" , \"Eliz Ok\" , \"Sevin Ok\" , \"Ayse Erol\"]"
   ]
  },
  {
   "cell_type": "code",
   "execution_count": 27,
   "id": "35d88123-9bb5-4a36-b77b-eab273e554ea",
   "metadata": {},
   "outputs": [
    {
     "name": "stdout",
     "output_type": "stream",
     "text": [
      "Akin Ok\n",
      "Eliz Ok\n",
      "Sevin Ok\n",
      "Ayse Erol\n"
     ]
    }
   ],
   "source": [
    "for kullanici in kisiler :\n",
    "    print(kullanici)"
   ]
  },
  {
   "cell_type": "code",
   "execution_count": 29,
   "id": "5f047ac0-b050-408a-a695-ff577a8b21a3",
   "metadata": {},
   "outputs": [
    {
     "name": "stdout",
     "output_type": "stream",
     "text": [
      "1 Akin Ok\n",
      "2 Eliz Ok\n",
      "3 Sevin Ok\n",
      "4 Ayse Erol\n"
     ]
    }
   ],
   "source": [
    "kullanici_sayisi = 0\n",
    "for kullanici in kisiler :\n",
    "    kullanici_sayisi = kullanici_sayisi + 1\n",
    "    print(kullanici_sayisi,kullanici)\n"
   ]
  },
  {
   "cell_type": "code",
   "execution_count": 31,
   "id": "b68635ea-1312-464b-97b4-1243dfe45599",
   "metadata": {},
   "outputs": [
    {
     "data": {
      "text/plain": [
       "'Akin Ok'"
      ]
     },
     "execution_count": 31,
     "metadata": {},
     "output_type": "execute_result"
    }
   ],
   "source": [
    "kisiler[0]"
   ]
  },
  {
   "cell_type": "code",
   "execution_count": 33,
   "id": "cdd7d351-e3e0-4f53-a85f-cfcc24a441a7",
   "metadata": {},
   "outputs": [
    {
     "data": {
      "text/plain": [
       "['Akin', 'Ok']"
      ]
     },
     "execution_count": 33,
     "metadata": {},
     "output_type": "execute_result"
    }
   ],
   "source": [
    "kisiler[0].split()"
   ]
  },
  {
   "cell_type": "code",
   "execution_count": 35,
   "id": "cde26705-a7e6-432e-81bd-87d1b8545b3a",
   "metadata": {},
   "outputs": [
    {
     "data": {
      "text/plain": [
       "'Akin'"
      ]
     },
     "execution_count": 35,
     "metadata": {},
     "output_type": "execute_result"
    }
   ],
   "source": [
    "kisiler[0].split()[0]"
   ]
  },
  {
   "cell_type": "code",
   "execution_count": 37,
   "id": "2570eb8c-443e-4ac7-aae7-98864fbd6cce",
   "metadata": {},
   "outputs": [
    {
     "data": {
      "text/plain": [
       "'Ok'"
      ]
     },
     "execution_count": 37,
     "metadata": {},
     "output_type": "execute_result"
    }
   ],
   "source": [
    "kisiler[0].split()[1]"
   ]
  },
  {
   "cell_type": "code",
   "execution_count": 41,
   "id": "2b945ae9-4861-4764-8937-913fec1aba5a",
   "metadata": {},
   "outputs": [
    {
     "name": "stdout",
     "output_type": "stream",
     "text": [
      "Akin Ok\n"
     ]
    }
   ],
   "source": [
    "ad,soyad = kisiler[0].split()[0],kisiler[0].split()[1]\n",
    "print(ad,soyad)"
   ]
  },
  {
   "cell_type": "code",
   "execution_count": 43,
   "id": "0319fd7a-4d6c-409d-bbac-506bb8379209",
   "metadata": {},
   "outputs": [
    {
     "name": "stdout",
     "output_type": "stream",
     "text": [
      "Akin\n",
      "Ok\n"
     ]
    }
   ],
   "source": [
    "print(ad)\n",
    "print(soyad)"
   ]
  },
  {
   "cell_type": "code",
   "execution_count": 45,
   "id": "2ddd95b5-3cdc-46ec-af95-853a2393ed7b",
   "metadata": {},
   "outputs": [
    {
     "name": "stdout",
     "output_type": "stream",
     "text": [
      "1 Kullanicinin adi Akin ve Soyadi Ok\n",
      "2 Kullanicinin adi Eliz ve Soyadi Ok\n",
      "3 Kullanicinin adi Sevin ve Soyadi Ok\n",
      "4 Kullanicinin adi Ayse ve Soyadi Erol\n"
     ]
    }
   ],
   "source": [
    "kullanici_sayisi = 0 \n",
    "\n",
    "for kullanici in kisiler:\n",
    "    kullanici_sayisi = kullanici_sayisi + 1\n",
    "    ad,soyad = kullanici.split()[0],kullanici.split()[1]\n",
    "    print('{} Kullanicinin adi {} ve Soyadi {}'.format(kullanici_sayisi,ad,soyad))"
   ]
  },
  {
   "cell_type": "markdown",
   "id": "38c9e1cc-76d8-469c-a3d1-ac3849b312ac",
   "metadata": {},
   "source": [
    "If and For In Together"
   ]
  },
  {
   "cell_type": "code",
   "execution_count": 71,
   "id": "1e49b757-14b6-4099-8dab-13bf5eeae071",
   "metadata": {},
   "outputs": [
    {
     "name": "stdout",
     "output_type": "stream",
     "text": [
      "1 Kullanicinin adi Akin ve Soyadi Ok\n",
      "2 Kullanicinin adi Eliz ve Soyadi Ok\n",
      "3 Kullanicinin adi Sevin ve Soyadi Ok\n",
      "1 Baskanin adi Ayse ve Soyadi Erol\n"
     ]
    }
   ],
   "source": [
    "baskan = 'Ayse Erol'\n",
    "kullanici_sayisi = 0\n",
    "baskan_sayisi = 0\n",
    "\n",
    "for kullanici in kisiler:\n",
    "    ad,soyad = kullanici.split()[0],kullanici.split()[1]\n",
    "    if kullanici == baskan :\n",
    "        baskan_sayisi += 1\n",
    "        print('{0} Baskanin adi {1} ve Soyadi {2}'.format(baskan_sayisi,ad,soyad))\n",
    "    else :\n",
    "        kullanici_sayisi = kullanici_sayisi + 1\n",
    "        print('{0} Kullanicinin adi {1} ve Soyadi {2}'.format(kullanici_sayisi,ad,soyad))\n",
    "        #baskan_sayisi = baskan_sayisi + 1 ile baskan-sayisi += 1 aynı sonucu verir.\n"
   ]
  },
  {
   "cell_type": "code",
   "execution_count": null,
   "id": "5d6d9781-e371-4492-9c7e-b395bf9a3de9",
   "metadata": {},
   "outputs": [],
   "source": []
  }
 ],
 "metadata": {
  "kernelspec": {
   "display_name": "Python 3 (ipykernel)",
   "language": "python",
   "name": "python3"
  },
  "language_info": {
   "codemirror_mode": {
    "name": "ipython",
    "version": 3
   },
   "file_extension": ".py",
   "mimetype": "text/x-python",
   "name": "python",
   "nbconvert_exporter": "python",
   "pygments_lexer": "ipython3",
   "version": "3.12.4"
  }
 },
 "nbformat": 4,
 "nbformat_minor": 5
}
