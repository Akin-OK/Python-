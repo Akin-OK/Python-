{
 "cells": [
  {
   "cell_type": "markdown",
   "id": "3b468089-7185-4bc2-936e-886b346b1cf4",
   "metadata": {},
   "source": [
    "Break "
   ]
  },
  {
   "cell_type": "code",
   "execution_count": 5,
   "id": "475171f4-476c-4ef3-8659-b824ba10d43e",
   "metadata": {},
   "outputs": [
    {
     "name": "stdout",
     "output_type": "stream",
     "text": [
      "c harfi 2. indexte!\n"
     ]
    }
   ],
   "source": [
    "harfler = ['a' , 'b' , 'c' , 'd' , 'e']\n",
    "\n",
    "for index, harf in enumerate(harfler):\n",
    "    if harf == 'c':\n",
    "        print('{} harfi {}. indexte!'.format(harf,index))"
   ]
  },
  {
   "cell_type": "code",
   "execution_count": 7,
   "id": "1cb10470-0832-4db8-8c24-42c8c549613b",
   "metadata": {},
   "outputs": [
    {
     "name": "stdout",
     "output_type": "stream",
     "text": [
      "c harfi 2. indexte!\n",
      "c harfi 7. indexte!\n",
      "c harfi 12. indexte!\n",
      "c harfi 17. indexte!\n",
      "c harfi 22. indexte!\n",
      "c harfi 27. indexte!\n",
      "c harfi 32. indexte!\n",
      "c harfi 37. indexte!\n",
      "c harfi 42. indexte!\n",
      "c harfi 47. indexte!\n",
      "c harfi 52. indexte!\n",
      "c harfi 57. indexte!\n",
      "c harfi 62. indexte!\n",
      "c harfi 67. indexte!\n",
      "c harfi 72. indexte!\n",
      "c harfi 77. indexte!\n",
      "c harfi 82. indexte!\n",
      "c harfi 87. indexte!\n",
      "c harfi 92. indexte!\n",
      "c harfi 97. indexte!\n",
      "c harfi 102. indexte!\n",
      "c harfi 107. indexte!\n",
      "c harfi 112. indexte!\n",
      "c harfi 117. indexte!\n",
      "c harfi 122. indexte!\n",
      "c harfi 127. indexte!\n",
      "c harfi 132. indexte!\n",
      "c harfi 137. indexte!\n",
      "c harfi 142. indexte!\n",
      "c harfi 147. indexte!\n",
      "c harfi 152. indexte!\n",
      "c harfi 157. indexte!\n",
      "c harfi 162. indexte!\n",
      "c harfi 167. indexte!\n",
      "c harfi 172. indexte!\n",
      "c harfi 177. indexte!\n",
      "c harfi 182. indexte!\n",
      "c harfi 187. indexte!\n",
      "c harfi 192. indexte!\n",
      "c harfi 197. indexte!\n",
      "c harfi 202. indexte!\n",
      "c harfi 207. indexte!\n",
      "c harfi 212. indexte!\n",
      "c harfi 217. indexte!\n",
      "c harfi 222. indexte!\n",
      "c harfi 227. indexte!\n",
      "c harfi 232. indexte!\n",
      "c harfi 237. indexte!\n",
      "c harfi 242. indexte!\n",
      "c harfi 247. indexte!\n",
      "c harfi 252. indexte!\n",
      "c harfi 257. indexte!\n",
      "c harfi 262. indexte!\n",
      "c harfi 267. indexte!\n",
      "c harfi 272. indexte!\n",
      "c harfi 277. indexte!\n",
      "c harfi 282. indexte!\n",
      "c harfi 287. indexte!\n",
      "c harfi 292. indexte!\n",
      "c harfi 297. indexte!\n",
      "c harfi 302. indexte!\n",
      "c harfi 307. indexte!\n",
      "c harfi 312. indexte!\n",
      "c harfi 317. indexte!\n",
      "c harfi 322. indexte!\n",
      "c harfi 327. indexte!\n",
      "c harfi 332. indexte!\n",
      "c harfi 337. indexte!\n",
      "c harfi 342. indexte!\n",
      "c harfi 347. indexte!\n",
      "c harfi 352. indexte!\n",
      "c harfi 357. indexte!\n",
      "c harfi 362. indexte!\n",
      "c harfi 367. indexte!\n",
      "c harfi 372. indexte!\n",
      "c harfi 377. indexte!\n",
      "c harfi 382. indexte!\n",
      "c harfi 387. indexte!\n",
      "c harfi 392. indexte!\n",
      "c harfi 397. indexte!\n",
      "c harfi 402. indexte!\n",
      "c harfi 407. indexte!\n",
      "c harfi 412. indexte!\n",
      "c harfi 417. indexte!\n",
      "c harfi 422. indexte!\n",
      "c harfi 427. indexte!\n",
      "c harfi 432. indexte!\n",
      "c harfi 437. indexte!\n",
      "c harfi 442. indexte!\n",
      "c harfi 447. indexte!\n",
      "c harfi 452. indexte!\n",
      "c harfi 457. indexte!\n",
      "c harfi 462. indexte!\n",
      "c harfi 467. indexte!\n",
      "c harfi 472. indexte!\n",
      "c harfi 477. indexte!\n",
      "c harfi 482. indexte!\n",
      "c harfi 487. indexte!\n",
      "c harfi 492. indexte!\n",
      "c harfi 497. indexte!\n"
     ]
    }
   ],
   "source": [
    "harfler = ['a' , 'b' , 'c' , 'd' , 'e'] * 100\n",
    "\n",
    "for index, harf in enumerate(harfler):\n",
    "    if harf == 'c':\n",
    "        print('{} harfi {}. indexte!'.format(harf,index))"
   ]
  },
  {
   "cell_type": "code",
   "execution_count": 9,
   "id": "1c761b2b-d7b2-4e3d-a3d2-5d6e0761cba5",
   "metadata": {},
   "outputs": [
    {
     "name": "stdout",
     "output_type": "stream",
     "text": [
      "c harfi 2. indexte!\n"
     ]
    }
   ],
   "source": [
    "harfler = ['a' , 'b' , 'c' , 'd' , 'e'] * 100\n",
    "\n",
    "for index, harf in enumerate(harfler):\n",
    "    if harf == 'c':\n",
    "        print('{} harfi {}. indexte!'.format(harf,index))\n",
    "        break"
   ]
  },
  {
   "cell_type": "code",
   "execution_count": null,
   "id": "bebc3135-55e9-48e2-a7d1-9afc8585c20d",
   "metadata": {},
   "outputs": [],
   "source": []
  }
 ],
 "metadata": {
  "kernelspec": {
   "display_name": "Python 3 (ipykernel)",
   "language": "python",
   "name": "python3"
  },
  "language_info": {
   "codemirror_mode": {
    "name": "ipython",
    "version": 3
   },
   "file_extension": ".py",
   "mimetype": "text/x-python",
   "name": "python",
   "nbconvert_exporter": "python",
   "pygments_lexer": "ipython3",
   "version": "3.12.4"
  }
 },
 "nbformat": 4,
 "nbformat_minor": 5
}
