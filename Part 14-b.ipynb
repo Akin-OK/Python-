{
 "cells": [
  {
   "cell_type": "markdown",
   "id": "7b44d955-1140-4868-85c3-7df3c0e29a6d",
   "metadata": {},
   "source": [
    "Continue"
   ]
  },
  {
   "cell_type": "code",
   "execution_count": 5,
   "id": "730d9d44-8ad5-4f85-801a-15ada7a192f5",
   "metadata": {},
   "outputs": [
    {
     "name": "stdout",
     "output_type": "stream",
     "text": [
      "2\n",
      "4\n"
     ]
    }
   ],
   "source": [
    "for sayi in range(1,6):\n",
    "    if sayi%2==0:\n",
    "            print(sayi)"
   ]
  },
  {
   "cell_type": "code",
   "execution_count": 42,
   "id": "11018ad1-18c6-4475-8190-7f371cee5fdf",
   "metadata": {},
   "outputs": [
    {
     "name": "stdout",
     "output_type": "stream",
     "text": [
      "1\n",
      "3\n",
      "5\n"
     ]
    }
   ],
   "source": [
    "for sayi in range(1,6):\n",
    "    if sayi%2==0:\n",
    "        continue\n",
    "    print(sayi)"
   ]
  },
  {
   "cell_type": "markdown",
   "id": "ec2f3d0b-3515-4422-bb83-bb0a78ccbd9f",
   "metadata": {},
   "source": [
    "Pass"
   ]
  },
  {
   "cell_type": "code",
   "execution_count": 46,
   "id": "777740e5-241a-4811-9daf-9995395409ce",
   "metadata": {},
   "outputs": [
    {
     "name": "stdout",
     "output_type": "stream",
     "text": [
      "1\n",
      "3\n",
      "5\n"
     ]
    }
   ],
   "source": [
    "for sayi in range(1,6):\n",
    "    if sayi%2==0:\n",
    "        pass\n",
    "    else:\n",
    "        print(sayi)"
   ]
  },
  {
   "cell_type": "code",
   "execution_count": 48,
   "id": "1839bcdb-7822-4705-ad27-2b94a2b96efe",
   "metadata": {},
   "outputs": [
    {
     "ename": "SyntaxError",
     "evalue": "invalid syntax (6150992.py, line 3)",
     "output_type": "error",
     "traceback": [
      "\u001b[0;36m  Cell \u001b[0;32mIn[48], line 3\u001b[0;36m\u001b[0m\n\u001b[0;31m    else:\u001b[0m\n\u001b[0m    ^\u001b[0m\n\u001b[0;31mSyntaxError\u001b[0m\u001b[0;31m:\u001b[0m invalid syntax\n"
     ]
    }
   ],
   "source": [
    "if sayi < 5:\n",
    "\n",
    "    else:\n",
    "    print('Heyy!')"
   ]
  },
  {
   "cell_type": "code",
   "execution_count": 60,
   "id": "9afd0af7-929f-487d-ae08-96388b590af9",
   "metadata": {},
   "outputs": [
    {
     "name": "stdout",
     "output_type": "stream",
     "text": [
      "heyy\n"
     ]
    }
   ],
   "source": [
    "if sayi < 5:\n",
    "    pass\n",
    "else:\n",
    "    print(\"heyy\")\n",
    "\n",
    "   "
   ]
  }
 ],
 "metadata": {
  "kernelspec": {
   "display_name": "Python 3 (ipykernel)",
   "language": "python",
   "name": "python3"
  },
  "language_info": {
   "codemirror_mode": {
    "name": "ipython",
    "version": 3
   },
   "file_extension": ".py",
   "mimetype": "text/x-python",
   "name": "python",
   "nbconvert_exporter": "python",
   "pygments_lexer": "ipython3",
   "version": "3.12.4"
  }
 },
 "nbformat": 4,
 "nbformat_minor": 5
}
