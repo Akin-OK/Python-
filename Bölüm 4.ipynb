{
 "cells": [
  {
   "cell_type": "code",
   "execution_count": 3,
   "id": "2aca0d91-6e76-4b80-9e36-28f9f9de24cf",
   "metadata": {},
   "outputs": [],
   "source": [
    "strvar = 'Python'"
   ]
  },
  {
   "cell_type": "code",
   "execution_count": 5,
   "id": "e3e00c90-3dca-49be-aec0-3b67c6f4a967",
   "metadata": {},
   "outputs": [
    {
     "name": "stdout",
     "output_type": "stream",
     "text": [
      "Python\n"
     ]
    }
   ],
   "source": [
    "print(strvar)"
   ]
  },
  {
   "cell_type": "code",
   "execution_count": 7,
   "id": "bba0d9b0-2057-4dca-99b3-f0ae4e255307",
   "metadata": {},
   "outputs": [
    {
     "data": {
      "text/plain": [
       "'P'"
      ]
     },
     "execution_count": 7,
     "metadata": {},
     "output_type": "execute_result"
    }
   ],
   "source": [
    "strvar[0]"
   ]
  },
  {
   "cell_type": "code",
   "execution_count": 9,
   "id": "34ea0efb-a1b9-4936-a32a-7e21b18a6872",
   "metadata": {},
   "outputs": [
    {
     "data": {
      "text/plain": [
       "'h'"
      ]
     },
     "execution_count": 9,
     "metadata": {},
     "output_type": "execute_result"
    }
   ],
   "source": [
    "strvar[3]"
   ]
  },
  {
   "cell_type": "code",
   "execution_count": 11,
   "id": "2b8e47cb-964a-4244-b54e-824a37da62b8",
   "metadata": {},
   "outputs": [
    {
     "data": {
      "text/plain": [
       "'thon'"
      ]
     },
     "execution_count": 11,
     "metadata": {},
     "output_type": "execute_result"
    }
   ],
   "source": [
    "strvar[ 2 : ]"
   ]
  },
  {
   "cell_type": "code",
   "execution_count": 13,
   "id": "b593e2d7-f7fd-492d-b35f-de376d73d542",
   "metadata": {},
   "outputs": [
    {
     "data": {
      "text/plain": [
       "'Pyt'"
      ]
     },
     "execution_count": 13,
     "metadata": {},
     "output_type": "execute_result"
    }
   ],
   "source": [
    "strvar[ : 3 ]"
   ]
  },
  {
   "cell_type": "code",
   "execution_count": 15,
   "id": "0fe34b1d-a541-4a65-9059-1f504687efa9",
   "metadata": {},
   "outputs": [
    {
     "data": {
      "text/plain": [
       "'Pto'"
      ]
     },
     "execution_count": 15,
     "metadata": {},
     "output_type": "execute_result"
    }
   ],
   "source": [
    "strvar[ : : 2 ]"
   ]
  },
  {
   "cell_type": "code",
   "execution_count": 17,
   "id": "1e90e3fc-d8ec-4799-9430-9ba14b9582c3",
   "metadata": {},
   "outputs": [
    {
     "data": {
      "text/plain": [
       "'Ph'"
      ]
     },
     "execution_count": 17,
     "metadata": {},
     "output_type": "execute_result"
    }
   ],
   "source": [
    "strvar[0 : 5 : 3 ]"
   ]
  },
  {
   "cell_type": "code",
   "execution_count": 19,
   "id": "21db7d8a-1878-42c5-9d8c-7f0a1689f15d",
   "metadata": {},
   "outputs": [
    {
     "data": {
      "text/plain": [
       "'to'"
      ]
     },
     "execution_count": 19,
     "metadata": {},
     "output_type": "execute_result"
    }
   ],
   "source": [
    "strvar[2 : : 2 ]"
   ]
  },
  {
   "cell_type": "code",
   "execution_count": 21,
   "id": "d5ae07dc-16c6-465d-8744-e0ed598dd15e",
   "metadata": {},
   "outputs": [
    {
     "data": {
      "text/plain": [
       "6"
      ]
     },
     "execution_count": 21,
     "metadata": {},
     "output_type": "execute_result"
    }
   ],
   "source": [
    "len(strvar)"
   ]
  },
  {
   "cell_type": "code",
   "execution_count": 45,
   "id": "2489847e-34d3-4d16-b230-01c8bf7b379f",
   "metadata": {},
   "outputs": [
    {
     "data": {
      "text/plain": [
       "'Python ogren ogren ogren  ogren ogren'"
      ]
     },
     "execution_count": 45,
     "metadata": {},
     "output_type": "execute_result"
    }
   ],
   "source": [
    "strvar"
   ]
  },
  {
   "cell_type": "code",
   "execution_count": 51,
   "id": "a77170ab-857e-41c0-86fa-c47e4d308890",
   "metadata": {},
   "outputs": [],
   "source": [
    "strvar = 'Python'"
   ]
  },
  {
   "cell_type": "code",
   "execution_count": 53,
   "id": "d9306503-1ba5-4a3f-bf6b-14d52aec19aa",
   "metadata": {},
   "outputs": [
    {
     "name": "stdout",
     "output_type": "stream",
     "text": [
      "Python\n"
     ]
    }
   ],
   "source": [
    "print(strvar)"
   ]
  },
  {
   "cell_type": "code",
   "execution_count": 55,
   "id": "1f5f728e-e97c-4f61-a940-cfc9b589f081",
   "metadata": {},
   "outputs": [
    {
     "data": {
      "text/plain": [
       "'Python ogren '"
      ]
     },
     "execution_count": 55,
     "metadata": {},
     "output_type": "execute_result"
    }
   ],
   "source": [
    "strvar + ' ogren '"
   ]
  },
  {
   "cell_type": "code",
   "execution_count": 57,
   "id": "50eb4c46-1a84-4038-b07e-62e243936fcd",
   "metadata": {},
   "outputs": [
    {
     "data": {
      "text/plain": [
       "'Python'"
      ]
     },
     "execution_count": 57,
     "metadata": {},
     "output_type": "execute_result"
    }
   ],
   "source": [
    "strvar"
   ]
  },
  {
   "cell_type": "code",
   "execution_count": 59,
   "id": "1ddc1e46-3179-4b6b-b5fb-bc25fcad1b55",
   "metadata": {},
   "outputs": [],
   "source": [
    "strvar = strvar + ' ogren '"
   ]
  },
  {
   "cell_type": "code",
   "execution_count": 61,
   "id": "a2e95058-e0c4-4d5c-bd83-697e8b9fe555",
   "metadata": {},
   "outputs": [
    {
     "name": "stdout",
     "output_type": "stream",
     "text": [
      "Python ogren \n"
     ]
    }
   ],
   "source": [
    "print(strvar)"
   ]
  },
  {
   "cell_type": "code",
   "execution_count": 63,
   "id": "4455916c-b09a-4743-9b97-546e5d28fb37",
   "metadata": {},
   "outputs": [
    {
     "data": {
      "text/plain": [
       "'Python ogren Python ogren Python ogren Python ogren Python ogren '"
      ]
     },
     "execution_count": 63,
     "metadata": {},
     "output_type": "execute_result"
    }
   ],
   "source": [
    "strvar * 5"
   ]
  },
  {
   "cell_type": "code",
   "execution_count": 65,
   "id": "8ef17575-1ef9-4397-ac2b-363cbd289a51",
   "metadata": {},
   "outputs": [
    {
     "data": {
      "text/plain": [
       "'Python ogren '"
      ]
     },
     "execution_count": 65,
     "metadata": {},
     "output_type": "execute_result"
    }
   ],
   "source": [
    "strvar"
   ]
  },
  {
   "cell_type": "code",
   "execution_count": 67,
   "id": "55cea00a-5713-448f-9561-2cb31aecab51",
   "metadata": {},
   "outputs": [
    {
     "data": {
      "text/plain": [
       "'PYTHON OGREN '"
      ]
     },
     "execution_count": 67,
     "metadata": {},
     "output_type": "execute_result"
    }
   ],
   "source": [
    "strvar.upper()"
   ]
  },
  {
   "cell_type": "code",
   "execution_count": 69,
   "id": "6beb0a52-5e42-4730-bf95-02609baa4e61",
   "metadata": {},
   "outputs": [
    {
     "data": {
      "text/plain": [
       "'python ogren '"
      ]
     },
     "execution_count": 69,
     "metadata": {},
     "output_type": "execute_result"
    }
   ],
   "source": [
    "strvar.lower()"
   ]
  },
  {
   "cell_type": "code",
   "execution_count": 71,
   "id": "16f56516-f513-416e-8ba2-d95f83a4960b",
   "metadata": {},
   "outputs": [
    {
     "data": {
      "text/plain": [
       "['Python', 'ogren']"
      ]
     },
     "execution_count": 71,
     "metadata": {},
     "output_type": "execute_result"
    }
   ],
   "source": [
    "strvar.split()"
   ]
  },
  {
   "cell_type": "code",
   "execution_count": 79,
   "id": "d03470c2-e540-438c-97c7-c33f39d64868",
   "metadata": {},
   "outputs": [
    {
     "data": {
      "text/plain": [
       "['Pyth', 'n ', 'gren ']"
      ]
     },
     "execution_count": 79,
     "metadata": {},
     "output_type": "execute_result"
    }
   ],
   "source": [
    "strvar.split('o')"
   ]
  },
  {
   "cell_type": "code",
   "execution_count": 81,
   "id": "ee89e935-0114-4838-84b7-cc89d12a90b8",
   "metadata": {},
   "outputs": [
    {
     "data": {
      "text/plain": [
       "['Pytho', ' ogre', ' ']"
      ]
     },
     "execution_count": 81,
     "metadata": {},
     "output_type": "execute_result"
    }
   ],
   "source": [
    "strvar.split('n')"
   ]
  },
  {
   "cell_type": "code",
   "execution_count": null,
   "id": "2e319cc5-1e8b-4416-87b4-82632314b694",
   "metadata": {},
   "outputs": [],
   "source": []
  }
 ],
 "metadata": {
  "kernelspec": {
   "display_name": "Python 3 (ipykernel)",
   "language": "python",
   "name": "python3"
  },
  "language_info": {
   "codemirror_mode": {
    "name": "ipython",
    "version": 3
   },
   "file_extension": ".py",
   "mimetype": "text/x-python",
   "name": "python",
   "nbconvert_exporter": "python",
   "pygments_lexer": "ipython3",
   "version": "3.12.4"
  }
 },
 "nbformat": 4,
 "nbformat_minor": 5
}
