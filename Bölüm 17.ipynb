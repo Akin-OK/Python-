{
 "cells": [
  {
   "cell_type": "markdown",
   "id": "344f82c3-f620-401a-a07a-95497fde348a",
   "metadata": {},
   "source": [
    "Map"
   ]
  },
  {
   "cell_type": "code",
   "execution_count": null,
   "id": "f357d3f7-6529-4bcd-8cc5-3878883d6a32",
   "metadata": {},
   "outputs": [],
   "source": [
    "def karesini_al(x):\n",
    "    return x**2"
   ]
  },
  {
   "cell_type": "code",
   "execution_count": 3,
   "id": "c7f3194d-bf65-4f15-8e00-4fbc6bededd0",
   "metadata": {},
   "outputs": [
    {
     "data": {
      "text/plain": [
       "25"
      ]
     },
     "execution_count": 3,
     "metadata": {},
     "output_type": "execute_result"
    }
   ],
   "source": [
    "karesini_al(5)"
   ]
  },
  {
   "cell_type": "code",
   "execution_count": 5,
   "id": "5cdc7744-66ea-410a-bce9-53d3a781afb8",
   "metadata": {},
   "outputs": [
    {
     "name": "stdout",
     "output_type": "stream",
     "text": [
      "[1, 4, 9, 16, 25]\n"
     ]
    }
   ],
   "source": [
    "sayilar = [*range(1,6)]\n",
    "for index in range(len(sayilar)):\n",
    "    sayilar[index] = karesini_al(sayilar[index])\n",
    "print(sayilar)"
   ]
  },
  {
   "cell_type": "code",
   "execution_count": 9,
   "id": "0c31f520-e54e-4a92-a497-c554f976da6d",
   "metadata": {},
   "outputs": [
    {
     "data": {
      "text/plain": [
       "<map at 0x1060c13f0>"
      ]
     },
     "execution_count": 9,
     "metadata": {},
     "output_type": "execute_result"
    }
   ],
   "source": [
    "sayilar = [*range(1,6)]\n",
    "map(karesini_al,sayilar)"
   ]
  },
  {
   "cell_type": "code",
   "execution_count": 11,
   "id": "fa92a5f2-91a8-41a9-b4ea-8c123b689204",
   "metadata": {},
   "outputs": [
    {
     "data": {
      "text/plain": [
       "[1, 4, 9, 16, 25]"
      ]
     },
     "execution_count": 11,
     "metadata": {},
     "output_type": "execute_result"
    }
   ],
   "source": [
    "sayilar = [*range(1,6)]\n",
    "[*map(karesini_al,sayilar)]"
   ]
  },
  {
   "cell_type": "markdown",
   "id": "53bcc1ef-d18f-4cc5-8498-0033af9f94ed",
   "metadata": {},
   "source": [
    "Filter"
   ]
  },
  {
   "cell_type": "code",
   "execution_count": 13,
   "id": "610a31de-22e8-4207-9c21-3e2ee91b39e0",
   "metadata": {},
   "outputs": [],
   "source": [
    "def cift_sayilari_filtrele(x):\n",
    "    if x%2==0:\n",
    "        return x\n",
    "    else:\n",
    "        return None "
   ]
  },
  {
   "cell_type": "code",
   "execution_count": 15,
   "id": "8bcf27bf-9ffa-4396-9a20-96cd0f12eca8",
   "metadata": {},
   "outputs": [
    {
     "data": {
      "text/plain": [
       "4"
      ]
     },
     "execution_count": 15,
     "metadata": {},
     "output_type": "execute_result"
    }
   ],
   "source": [
    "cift_sayilari_filtrele(4)"
   ]
  },
  {
   "cell_type": "code",
   "execution_count": 17,
   "id": "668c65b3-4942-40c6-a256-79c75d0a5d4d",
   "metadata": {},
   "outputs": [],
   "source": [
    "cift_sayilari_filtrele(3)"
   ]
  },
  {
   "cell_type": "code",
   "execution_count": 21,
   "id": "184a99a1-18fa-4a44-8b7e-205f83b58f4b",
   "metadata": {},
   "outputs": [
    {
     "data": {
      "text/plain": [
       "<filter at 0x113104f40>"
      ]
     },
     "execution_count": 21,
     "metadata": {},
     "output_type": "execute_result"
    }
   ],
   "source": [
    "sayilar = [*range(1,6)]\n",
    "filter(cift_sayilari_filtrele,sayilar)"
   ]
  },
  {
   "cell_type": "code",
   "execution_count": 23,
   "id": "7ac0de43-d667-4611-b255-959e7174c9b4",
   "metadata": {},
   "outputs": [
    {
     "data": {
      "text/plain": [
       "[2, 4]"
      ]
     },
     "execution_count": 23,
     "metadata": {},
     "output_type": "execute_result"
    }
   ],
   "source": [
    "sayilar = [*range(1,6)]\n",
    "[*filter(cift_sayilari_filtrele,sayilar)]"
   ]
  },
  {
   "cell_type": "markdown",
   "id": "95e97293-49dc-410d-8f7a-c100ee648979",
   "metadata": {},
   "source": [
    "Lambda"
   ]
  },
  {
   "cell_type": "code",
   "execution_count": 25,
   "id": "2237c188-05ec-4044-bdf4-6790f2f8840b",
   "metadata": {},
   "outputs": [
    {
     "data": {
      "text/plain": [
       "<map at 0x10666a9b0>"
      ]
     },
     "execution_count": 25,
     "metadata": {},
     "output_type": "execute_result"
    }
   ],
   "source": [
    "sayilar = [*range(1,6)]\n",
    "map(lambda sayi: sayi**2,sayilar)"
   ]
  },
  {
   "cell_type": "code",
   "execution_count": 29,
   "id": "e8ffbbe4-25fa-455f-bd71-52842beb8be7",
   "metadata": {},
   "outputs": [
    {
     "data": {
      "text/plain": [
       "[1, 4, 9, 16, 25]"
      ]
     },
     "execution_count": 29,
     "metadata": {},
     "output_type": "execute_result"
    }
   ],
   "source": [
    "sayilar = [*range(1,6)]\n",
    "[*map(lambda sayi: sayi**2,sayilar)]"
   ]
  },
  {
   "cell_type": "code",
   "execution_count": 31,
   "id": "76deb0ac-b784-4772-82a5-4e0547d4cce9",
   "metadata": {},
   "outputs": [
    {
     "data": {
      "text/plain": [
       "<filter at 0x1172046d0>"
      ]
     },
     "execution_count": 31,
     "metadata": {},
     "output_type": "execute_result"
    }
   ],
   "source": [
    "sayilar = [*range(1,6)]\n",
    "filter(lambda x : x if x%2==0 else None,sayilar)"
   ]
  },
  {
   "cell_type": "code",
   "execution_count": 37,
   "id": "4418b1aa-e5a5-4776-9166-a40a82ac719f",
   "metadata": {},
   "outputs": [
    {
     "data": {
      "text/plain": [
       "[2, 4]"
      ]
     },
     "execution_count": 37,
     "metadata": {},
     "output_type": "execute_result"
    }
   ],
   "source": [
    "sayilar = [*range(1,6)]\n",
    "[*filter(lambda x : x if x%2==0 else None,sayilar)]"
   ]
  },
  {
   "cell_type": "code",
   "execution_count": null,
   "id": "6e3157d1-7774-4b85-9991-e07a6c99de13",
   "metadata": {},
   "outputs": [],
   "source": []
  }
 ],
 "metadata": {
  "kernelspec": {
   "display_name": "Python 3 (ipykernel)",
   "language": "python",
   "name": "python3"
  },
  "language_info": {
   "codemirror_mode": {
    "name": "ipython",
    "version": 3
   },
   "file_extension": ".py",
   "mimetype": "text/x-python",
   "name": "python",
   "nbconvert_exporter": "python",
   "pygments_lexer": "ipython3",
   "version": "3.12.4"
  }
 },
 "nbformat": 4,
 "nbformat_minor": 5
}
