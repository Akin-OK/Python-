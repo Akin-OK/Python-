{
 "cells": [
  {
   "cell_type": "code",
   "execution_count": 5,
   "id": "c3cb1c7c-50d0-4664-a245-896de17688ff",
   "metadata": {},
   "outputs": [
    {
     "name": "stdout",
     "output_type": "stream",
     "text": [
      "Merhaba\n"
     ]
    }
   ],
   "source": [
    "print(\"Merhaba\")"
   ]
  },
  {
   "cell_type": "code",
   "execution_count": 7,
   "id": "b8401cce-d020-488f-b34a-6e62a162dc58",
   "metadata": {},
   "outputs": [
    {
     "name": "stdout",
     "output_type": "stream",
     "text": [
      "Merhaba Ben Akin\n"
     ]
    }
   ],
   "source": [
    "print(\"Merhaba Ben Akin\")"
   ]
  },
  {
   "cell_type": "code",
   "execution_count": 17,
   "id": "fb416d9a-d1b6-4df1-9093-f4abb8c60d2f",
   "metadata": {},
   "outputs": [
    {
     "name": "stdout",
     "output_type": "stream",
     "text": [
      "Merhaba \n",
      "Ben Akin\n"
     ]
    }
   ],
   "source": [
    "print(\"Merhaba \\nBen Akin\")"
   ]
  },
  {
   "cell_type": "code",
   "execution_count": 23,
   "id": "de0902e4-61a2-4977-95ba-5c8b14f22798",
   "metadata": {},
   "outputs": [
    {
     "name": "stdout",
     "output_type": "stream",
     "text": [
      "Merhaba \t  Ben Akin\n"
     ]
    }
   ],
   "source": [
    "print(\"Merhaba \\t  Ben Akin\")"
   ]
  },
  {
   "cell_type": "code",
   "execution_count": 25,
   "id": "fbde2cbd-6b9d-4887-8ba2-eb2a5987ff77",
   "metadata": {},
   "outputs": [
    {
     "name": "stdout",
     "output_type": "stream",
     "text": [
      "Benim adım Akin, yasim 20\n"
     ]
    }
   ],
   "source": [
    "print(\"Benim adım {}, yasim {}\".format('Akin',20))"
   ]
  },
  {
   "cell_type": "code",
   "execution_count": 27,
   "id": "df5acd15-fe09-42ac-860e-5c77be29c2c6",
   "metadata": {},
   "outputs": [
    {
     "name": "stdout",
     "output_type": "stream",
     "text": [
      "Benim adim Akin, yasim 20\n"
     ]
    }
   ],
   "source": [
    "print(\"Benim adim {0}, yasim {1}\".format('Akin',20))"
   ]
  },
  {
   "cell_type": "code",
   "execution_count": 29,
   "id": "d8f9a180-cf08-4e51-bffc-e36b0593eb93",
   "metadata": {},
   "outputs": [
    {
     "name": "stdout",
     "output_type": "stream",
     "text": [
      "Benim adim 20, yasim Akin\n"
     ]
    }
   ],
   "source": [
    "print(\"Benim adim {1}, yasim {0}\".format('Akin',20))"
   ]
  },
  {
   "cell_type": "code",
   "execution_count": 33,
   "id": "358609b8-4a79-46a0-8b33-e66cbaa5a331",
   "metadata": {},
   "outputs": [
    {
     "name": "stdout",
     "output_type": "stream",
     "text": [
      "Benim adim 20, yasim Akin\n"
     ]
    }
   ],
   "source": [
    "print(\"Benim adim {1}, yasim {0}\".format('Akin',20))\n",
    "    "
   ]
  },
  {
   "cell_type": "code",
   "execution_count": 35,
   "id": "5531d6ae-00d0-482d-a7fa-8f2e93bb0475",
   "metadata": {},
   "outputs": [
    {
     "name": "stdout",
     "output_type": "stream",
     "text": [
      "Benim adim Akin, yasim 20\n"
     ]
    }
   ],
   "source": [
    "print(\"Benim adim {ad}, yasim {yas}\".format(ad='Akin',yas=20))"
   ]
  },
  {
   "cell_type": "code",
   "execution_count": 39,
   "id": "7a30d8a5-7565-4adb-b24e-e6d55a2876be",
   "metadata": {},
   "outputs": [
    {
     "name": "stdout",
     "output_type": "stream",
     "text": [
      "Benim adim Akin, yasim 20\n"
     ]
    }
   ],
   "source": [
    "print(\"Benim adim {ad}, yasim {yas}\".format(ad='Akin',yas=20))"
   ]
  },
  {
   "cell_type": "code",
   "execution_count": 41,
   "id": "a0d3f01b-6496-402c-8f3b-dad90e5f1372",
   "metadata": {},
   "outputs": [
    {
     "name": "stdout",
     "output_type": "stream",
     "text": [
      "Benim adim Akin, yasim 20\n"
     ]
    }
   ],
   "source": [
    "print(\"Benim adim {ad}, yasim {yas}\".format(yas=20,ad='Akin'))"
   ]
  },
  {
   "cell_type": "code",
   "execution_count": 43,
   "id": "7e129beb-5e6d-48f8-b62b-ab071e621d90",
   "metadata": {},
   "outputs": [
    {
     "name": "stdout",
     "output_type": "stream",
     "text": [
      "Benim adim Akin, yasim 20\n"
     ]
    }
   ],
   "source": [
    "print(\"Benim adim {ad}, yasim {yas}\".format(ad='Akin',yas='20'))"
   ]
  },
  {
   "cell_type": "code",
   "execution_count": null,
   "id": "6521d2da-7551-4171-bf64-0f99de5b4ac0",
   "metadata": {},
   "outputs": [],
   "source": []
  }
 ],
 "metadata": {
  "kernelspec": {
   "display_name": "Python 3 (ipykernel)",
   "language": "python",
   "name": "python3"
  },
  "language_info": {
   "codemirror_mode": {
    "name": "ipython",
    "version": 3
   },
   "file_extension": ".py",
   "mimetype": "text/x-python",
   "name": "python",
   "nbconvert_exporter": "python",
   "pygments_lexer": "ipython3",
   "version": "3.12.4"
  }
 },
 "nbformat": 4,
 "nbformat_minor": 5
}
