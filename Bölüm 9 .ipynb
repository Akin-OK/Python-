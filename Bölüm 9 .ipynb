{
 "cells": [
  {
   "cell_type": "markdown",
   "id": "77b71207-2236-4cd4-b055-89113f36170e",
   "metadata": {},
   "source": [
    "If Sorgulama/Investigate of the If"
   ]
  },
  {
   "cell_type": "code",
   "execution_count": 1,
   "id": "c9126ce0-ab4d-4e6d-b7eb-5b3982e00a08",
   "metadata": {},
   "outputs": [
    {
     "name": "stdout",
     "output_type": "stream",
     "text": [
      "semsiye al\n"
     ]
    }
   ],
   "source": [
    "hava_durumu = 'yağisli'\n",
    "\n",
    "if hava_durumu == 'yağisli' :\n",
    "    print(\"semsiye al\")"
   ]
  },
  {
   "cell_type": "code",
   "execution_count": 3,
   "id": "2b8a2e5a-8675-47d7-86a1-83e7f027ef0c",
   "metadata": {},
   "outputs": [],
   "source": [
    "hava_durumu = 'karli'\n",
    "\n",
    "if hava_durumu == 'yağisli' :\n",
    "    print(\"semsiye al\")"
   ]
  },
  {
   "cell_type": "code",
   "execution_count": 5,
   "id": "46091c99-c76d-44fe-8aa7-a04a09f8ec9a",
   "metadata": {},
   "outputs": [
    {
     "name": "stdout",
     "output_type": "stream",
     "text": [
      "sorun yok\n"
     ]
    }
   ],
   "source": [
    "hava_durumu = 'karli'\n",
    "\n",
    "if hava_durumu == 'yağisli' :\n",
    "    print(\"semsiye al\")\n",
    "else : \n",
    "    print('sorun yok')"
   ]
  },
  {
   "cell_type": "code",
   "execution_count": 7,
   "id": "671801ae-0f95-4ab5-87e1-c0d02441db95",
   "metadata": {},
   "outputs": [
    {
     "name": "stdout",
     "output_type": "stream",
     "text": [
      "semsiye al\n"
     ]
    }
   ],
   "source": [
    "hava_durumu = 'yağisli'\n",
    "\n",
    "if hava_durumu == 'yağisli' :\n",
    "    print(\"semsiye al\")\n",
    "else : \n",
    "    print('sorun yok')"
   ]
  },
  {
   "cell_type": "code",
   "execution_count": 9,
   "id": "919684f5-2319-403d-b732-fd73ab3584fd",
   "metadata": {},
   "outputs": [
    {
     "name": "stdout",
     "output_type": "stream",
     "text": [
      "aitlik içerir\n"
     ]
    }
   ],
   "source": [
    "yas = 20\n",
    "if yas > 18 :\n",
    "    print('aitlik içerir')\n",
    "else :\n",
    "    print('aitlik yoktur')"
   ]
  },
  {
   "cell_type": "code",
   "execution_count": 11,
   "id": "a859cb30-663e-4311-b4fe-3f4bfd59759f",
   "metadata": {},
   "outputs": [
    {
     "name": "stdout",
     "output_type": "stream",
     "text": [
      "aitlik yoktur\n"
     ]
    }
   ],
   "source": [
    "yas = 10\n",
    "if yas > 18 :\n",
    "    print('aitlik içerir')\n",
    "else :\n",
    "    print('aitlik yoktur')"
   ]
  },
  {
   "cell_type": "code",
   "execution_count": 13,
   "id": "6a721c6b-86f0-49b9-8e14-379ab352f91d",
   "metadata": {},
   "outputs": [
    {
     "name": "stdout",
     "output_type": "stream",
     "text": [
      "sorun yok\n"
     ]
    }
   ],
   "source": [
    "hava_durumu = 'gunesli'\n",
    "\n",
    "if hava_durumu == 'yağisli' :\n",
    "    print(\"semsiye al\")\n",
    "elif hava_durumu == 'karli' :\n",
    "    print('atkı tak')\n",
    "else : \n",
    "    print('sorun yok')"
   ]
  },
  {
   "cell_type": "code",
   "execution_count": 15,
   "id": "431cb460-bc10-4f80-a2db-0c031f6d62aa",
   "metadata": {},
   "outputs": [
    {
     "name": "stdout",
     "output_type": "stream",
     "text": [
      "atkı tak\n"
     ]
    }
   ],
   "source": [
    "hava_durumu = 'karli'\n",
    "\n",
    "if hava_durumu == 'yağisli' :\n",
    "    print(\"semsiye al\")\n",
    "elif hava_durumu == 'karli' :\n",
    "    print('atkı tak')\n",
    "else : \n",
    "    print('sorun yok')"
   ]
  },
  {
   "cell_type": "code",
   "execution_count": 17,
   "id": "7a620cba-930e-41f7-a267-41cb90a497d8",
   "metadata": {},
   "outputs": [
    {
     "name": "stdout",
     "output_type": "stream",
     "text": [
      "semsiye al\n"
     ]
    }
   ],
   "source": [
    "hava_durumu = 'yağisli'\n",
    "\n",
    "if hava_durumu == 'yağisli' :\n",
    "    print(\"semsiye al\")\n",
    "elif hava_durumu == 'karli' :\n",
    "    print('atkı tak')\n",
    "else : \n",
    "    print('sorun yok')"
   ]
  },
  {
   "cell_type": "code",
   "execution_count": 19,
   "id": "3ceb3a3e-24d6-4a52-83e7-45528b6c717c",
   "metadata": {},
   "outputs": [
    {
     "name": "stdout",
     "output_type": "stream",
     "text": [
      "liste ekledim\n",
      "güncel liste ['a', 'b', 'c', 'd']\n"
     ]
    }
   ],
   "source": [
    "liste = ['a' , 'b' , 'c' ]\n",
    "hedef_harf = 'd'\n",
    "if hedef_harf in liste :\n",
    "    print('buldum')\n",
    "else : \n",
    "    liste.append(hedef_harf)\n",
    "    print('liste ekledim')\n",
    "    print('güncel liste {}'.format(liste))"
   ]
  },
  {
   "cell_type": "code",
   "execution_count": 21,
   "id": "a5fb2662-eb2d-4be1-8839-34159999cb32",
   "metadata": {},
   "outputs": [
    {
     "name": "stdout",
     "output_type": "stream",
     "text": [
      "buldum\n"
     ]
    }
   ],
   "source": [
    "liste = ['a' , 'b' , 'c' ]\n",
    "hedef_harf = 'a'\n",
    "if hedef_harf in liste and hedef_harf == liste[0] :\n",
    "    print('buldum')\n",
    "else : \n",
    "    liste.append(hedef_harf)\n",
    "    print('liste ekledim')\n",
    "    print('güncel liste {}'.format(liste))"
   ]
  },
  {
   "cell_type": "code",
   "execution_count": null,
   "id": "8facd30a-f066-485a-b414-7c71a2556840",
   "metadata": {},
   "outputs": [],
   "source": []
  }
 ],
 "metadata": {
  "kernelspec": {
   "display_name": "Python 3 (ipykernel)",
   "language": "python",
   "name": "python3"
  },
  "language_info": {
   "codemirror_mode": {
    "name": "ipython",
    "version": 3
   },
   "file_extension": ".py",
   "mimetype": "text/x-python",
   "name": "python",
   "nbconvert_exporter": "python",
   "pygments_lexer": "ipython3",
   "version": "3.12.4"
  }
 },
 "nbformat": 4,
 "nbformat_minor": 5
}
