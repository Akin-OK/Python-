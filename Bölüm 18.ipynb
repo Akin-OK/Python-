{
 "cells": [
  {
   "cell_type": "markdown",
   "id": "e803c2fd-e896-4e33-bd05-de920c9839d2",
   "metadata": {},
   "source": [
    "Kullanıcı Girdisi (User input)"
   ]
  },
  {
   "cell_type": "code",
   "execution_count": 1,
   "id": "98c88180-a343-4b22-9c97-149739bd80f1",
   "metadata": {},
   "outputs": [
    {
     "name": "stdin",
     "output_type": "stream",
     "text": [
      "sayi gir: 18\n"
     ]
    },
    {
     "data": {
      "text/plain": [
       "'18'"
      ]
     },
     "execution_count": 1,
     "metadata": {},
     "output_type": "execute_result"
    }
   ],
   "source": [
    "input(\"sayi gir:\")"
   ]
  },
  {
   "cell_type": "code",
   "execution_count": 3,
   "id": "bdf64493-02ec-48ca-bd2d-fe85d4136446",
   "metadata": {},
   "outputs": [
    {
     "name": "stdin",
     "output_type": "stream",
     "text": [
      "sayi gir: hello\n"
     ]
    },
    {
     "data": {
      "text/plain": [
       "'hello'"
      ]
     },
     "execution_count": 3,
     "metadata": {},
     "output_type": "execute_result"
    }
   ],
   "source": [
    "input(\"sayi gir:\")"
   ]
  },
  {
   "cell_type": "code",
   "execution_count": 5,
   "id": "46815245-da53-4644-bfea-c9ae3aae585f",
   "metadata": {},
   "outputs": [
    {
     "name": "stdin",
     "output_type": "stream",
     "text": [
      "sayi gir: 5\n"
     ]
    },
    {
     "data": {
      "text/plain": [
       "'5'"
      ]
     },
     "execution_count": 5,
     "metadata": {},
     "output_type": "execute_result"
    }
   ],
   "source": [
    "girdi = input(\"sayi gir:\")\n",
    "girdi"
   ]
  },
  {
   "cell_type": "code",
   "execution_count": 9,
   "id": "48edce11-48b4-4756-b037-2d7401b98668",
   "metadata": {},
   "outputs": [],
   "source": [
    "def uygulama():\n",
    "    girdi = input(\"sayi gir:\")\n",
    "    islem = input(\"Verinin tek mi çift mi oldugunu sorgulayın:\")\n",
    "    if islem =='çift':\n",
    "        if int(girdi)%2==0:\n",
    "            return 'Evet bu bir çift sayidir'\n",
    "        else:\n",
    "            return 'Hayır bu bir ç,ift sayi değildir'\n",
    "    elif islem == 'tek': \n",
    "        if int(girdi)%2==1:\n",
    "            return 'Evet bu bir tek sayidir'\n",
    "        else:\n",
    "            return 'Hayır bu bir tek sayi değildir'\n",
    "            "
   ]
  },
  {
   "cell_type": "code",
   "execution_count": 11,
   "id": "da0dc2ce-71ef-4fb7-a954-07431740b8fb",
   "metadata": {},
   "outputs": [
    {
     "name": "stdin",
     "output_type": "stream",
     "text": [
      "sayi gir: 35\n",
      "Verinin tek mi çift mi oldugunu sorgulayın: tek\n"
     ]
    },
    {
     "data": {
      "text/plain": [
       "'Evet bu bir tek sayidir'"
      ]
     },
     "execution_count": 11,
     "metadata": {},
     "output_type": "execute_result"
    }
   ],
   "source": [
    "uygulama()"
   ]
  },
  {
   "cell_type": "code",
   "execution_count": 13,
   "id": "ed3ec75b-18d6-48ec-aee1-4bce6b1fd879",
   "metadata": {},
   "outputs": [
    {
     "name": "stdin",
     "output_type": "stream",
     "text": [
      "sayi gir: 20\n",
      "Verinin tek mi çift mi oldugunu sorgulayın: tek\n"
     ]
    },
    {
     "data": {
      "text/plain": [
       "'Hayır bu bir tek sayi değildir'"
      ]
     },
     "execution_count": 13,
     "metadata": {},
     "output_type": "execute_result"
    }
   ],
   "source": [
    "uygulama()"
   ]
  },
  {
   "cell_type": "code",
   "execution_count": 17,
   "id": "8a7a94d2-77ae-4bbe-aac7-f98ccdda9085",
   "metadata": {},
   "outputs": [
    {
     "name": "stdin",
     "output_type": "stream",
     "text": [
      "sayi gir: 20\n",
      "Verinin tek mi çift mi oldugunu sorgulayın: çift\n"
     ]
    },
    {
     "data": {
      "text/plain": [
       "'Evet bu bir çift sayidir'"
      ]
     },
     "execution_count": 17,
     "metadata": {},
     "output_type": "execute_result"
    }
   ],
   "source": [
    "uygulama()"
   ]
  },
  {
   "cell_type": "code",
   "execution_count": 19,
   "id": "d840ac29-5777-4057-ac66-aca6452c087f",
   "metadata": {},
   "outputs": [
    {
     "name": "stdin",
     "output_type": "stream",
     "text": [
      "sayi gir: ejkf\n",
      "Verinin tek mi çift mi oldugunu sorgulayın: d\n"
     ]
    }
   ],
   "source": [
    "uygulama()"
   ]
  },
  {
   "cell_type": "code",
   "execution_count": 21,
   "id": "79a342e0-4a89-4839-9ae5-52eddc2de875",
   "metadata": {},
   "outputs": [
    {
     "name": "stdin",
     "output_type": "stream",
     "text": [
      "sayi gir: 20\n",
      "Verinin tek mi çift mi oldugunu sorgulayın: 2\n"
     ]
    }
   ],
   "source": [
    "uygulama()"
   ]
  },
  {
   "cell_type": "code",
   "execution_count": 23,
   "id": "8935c998-7bbe-4021-93f5-7bf07865826d",
   "metadata": {},
   "outputs": [
    {
     "name": "stdin",
     "output_type": "stream",
     "text": [
      "sayi gir: 20\n",
      "Verinin tek mi çift mi oldugunu sorgulayın: tek\n"
     ]
    },
    {
     "data": {
      "text/plain": [
       "'Hayır bu bir tek sayi değildir'"
      ]
     },
     "execution_count": 23,
     "metadata": {},
     "output_type": "execute_result"
    }
   ],
   "source": [
    "uygulama()"
   ]
  },
  {
   "cell_type": "code",
   "execution_count": null,
   "id": "bff03eb4-3e1f-4472-abdd-4069966732ca",
   "metadata": {},
   "outputs": [],
   "source": []
  }
 ],
 "metadata": {
  "kernelspec": {
   "display_name": "Python 3 (ipykernel)",
   "language": "python",
   "name": "python3"
  },
  "language_info": {
   "codemirror_mode": {
    "name": "ipython",
    "version": 3
   },
   "file_extension": ".py",
   "mimetype": "text/x-python",
   "name": "python",
   "nbconvert_exporter": "python",
   "pygments_lexer": "ipython3",
   "version": "3.12.4"
  }
 },
 "nbformat": 4,
 "nbformat_minor": 5
}
