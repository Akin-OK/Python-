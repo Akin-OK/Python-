{
 "cells": [
  {
   "cell_type": "markdown",
   "id": "8f779d87-5ad7-48ba-9eac-ea68f8d3213b",
   "metadata": {},
   "source": [
    "Enumerate "
   ]
  },
  {
   "cell_type": "code",
   "execution_count": 15,
   "id": "fa78b42a-4aeb-4f22-b021-9adc6e312923",
   "metadata": {},
   "outputs": [
    {
     "name": "stdout",
     "output_type": "stream",
     "text": [
      "(0, 'a')\n",
      "(1, 'b')\n",
      "(2, 'c')\n",
      "(3, 'd')\n",
      "(4, 'e')\n"
     ]
    }
   ],
   "source": [
    "harfler = ['a' , 'b' , 'c' , 'd' , 'e']\n",
    "\n",
    "for harf in enumerate(harfler):\n",
    "    print(harf)"
   ]
  },
  {
   "cell_type": "code",
   "execution_count": 3,
   "id": "6d699e6f-13b4-4ff5-b64a-fb63b3c9ea5f",
   "metadata": {},
   "outputs": [
    {
     "name": "stdout",
     "output_type": "stream",
     "text": [
      "0\n",
      "1\n",
      "2\n",
      "3\n",
      "4\n"
     ]
    }
   ],
   "source": [
    "for index,harf in enumerate(harfler):\n",
    "    print(index)"
   ]
  },
  {
   "cell_type": "code",
   "execution_count": 5,
   "id": "8475d31d-51b5-4897-8809-38006ed28c11",
   "metadata": {},
   "outputs": [
    {
     "name": "stdout",
     "output_type": "stream",
     "text": [
      "a\n",
      "b\n",
      "c\n",
      "d\n",
      "e\n"
     ]
    }
   ],
   "source": [
    "for index,harf in enumerate(harfler):\n",
    "    print(harf)"
   ]
  },
  {
   "cell_type": "code",
   "execution_count": 9,
   "id": "155d07d7-a093-4292-bef0-1df7f7f6ff04",
   "metadata": {},
   "outputs": [
    {
     "name": "stdout",
     "output_type": "stream",
     "text": [
      "0 a\n",
      "1 b\n",
      "2 c\n",
      "3 d\n",
      "4 e\n"
     ]
    }
   ],
   "source": [
    "for index,harf in enumerate(harfler):\n",
    "    print(index,harf)"
   ]
  },
  {
   "cell_type": "code",
   "execution_count": 11,
   "id": "24863c91-b79f-4899-8bf8-0776d034218d",
   "metadata": {},
   "outputs": [
    {
     "name": "stdout",
     "output_type": "stream",
     "text": [
      "1 a\n",
      "2 b\n",
      "3 c\n",
      "4 d\n",
      "5 e\n"
     ]
    }
   ],
   "source": [
    "for index,harf in enumerate(harfler):\n",
    "    print(index+1,harf)"
   ]
  },
  {
   "cell_type": "code",
   "execution_count": 13,
   "id": "8b8ce5b4-afbb-4665-b87d-d082ab0870f3",
   "metadata": {},
   "outputs": [
    {
     "name": "stdout",
     "output_type": "stream",
     "text": [
      " 1. harf a \n",
      " 2. harf b \n",
      " 3. harf c \n",
      " 4. harf d \n",
      " 5. harf e \n"
     ]
    }
   ],
   "source": [
    "for index,harf in enumerate(harfler):\n",
    "    print(\" {}. harf {} \".format(index+1,harf))"
   ]
  },
  {
   "cell_type": "code",
   "execution_count": null,
   "id": "13c4ba25-e625-4e01-b5d6-fda20f4a1417",
   "metadata": {},
   "outputs": [],
   "source": []
  }
 ],
 "metadata": {
  "kernelspec": {
   "display_name": "Python 3 (ipykernel)",
   "language": "python",
   "name": "python3"
  },
  "language_info": {
   "codemirror_mode": {
    "name": "ipython",
    "version": 3
   },
   "file_extension": ".py",
   "mimetype": "text/x-python",
   "name": "python",
   "nbconvert_exporter": "python",
   "pygments_lexer": "ipython3",
   "version": "3.12.4"
  }
 },
 "nbformat": 4,
 "nbformat_minor": 5
}
