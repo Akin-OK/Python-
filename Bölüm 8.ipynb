{
 "cells": [
  {
   "cell_type": "code",
   "execution_count": 11,
   "id": "279a2174-79ba-4e85-9fb4-bfa7fac55d8c",
   "metadata": {},
   "outputs": [
    {
     "data": {
      "text/plain": [
       "{'isim': 'Akin', 'yas': 20, 'konum': 'İzmir'}"
      ]
     },
     "execution_count": 11,
     "metadata": {},
     "output_type": "execute_result"
    }
   ],
   "source": [
    "dict1 = {'isim' : 'Akin' , 'yas' : 20 , 'konum' : 'İzmir'}\n",
    "dict1"
   ]
  },
  {
   "cell_type": "code",
   "execution_count": 38,
   "id": "ee8864d0-e9ab-4aac-b18a-8f1188e93478",
   "metadata": {},
   "outputs": [
    {
     "data": {
      "text/plain": [
       "{'isim': 'Akin', 'yas': 20, 'konum': 'İzmir'}"
      ]
     },
     "execution_count": 38,
     "metadata": {},
     "output_type": "execute_result"
    }
   ],
   "source": [
    "dict1 = {\n",
    "    'isim' : 'Akin',\n",
    "    'yas' : 20,\n",
    "    'konum' : 'İzmir'\n",
    "}\n",
    "dict1"
   ]
  },
  {
   "cell_type": "code",
   "execution_count": 56,
   "id": "9bb83e69-f3ea-40b5-808c-d306e2743efc",
   "metadata": {},
   "outputs": [
    {
     "data": {
      "text/plain": [
       "{'isim': 'Akin',\n",
       " 'yas': 20,\n",
       " 'konum': {'doğduğu_yer': 'Karsiyaka', 'yasadiği_yer': 'America'}}"
      ]
     },
     "execution_count": 56,
     "metadata": {},
     "output_type": "execute_result"
    }
   ],
   "source": [
    "dict2 = {\n",
    "    'isim' : 'Akin',\n",
    "    'yas' : 20,\n",
    "    'konum' : {\n",
    "        'doğduğu_yer' : 'Karsiyaka',\n",
    "        'yasadiği_yer' : 'America'\n",
    "    }\n",
    "}\n",
    "dict2"
   ]
  },
  {
   "cell_type": "code",
   "execution_count": 46,
   "id": "d76c1da0-eb77-4a41-be2a-b3d0fe939cdc",
   "metadata": {},
   "outputs": [
    {
     "data": {
      "text/plain": [
       "{'isim': 'Akin',\n",
       " 'yas': 20,\n",
       " 'konum': {'doğduğu_yer': 'Karsiyaka', 'yasadiği_yer': 'America'}}"
      ]
     },
     "execution_count": 46,
     "metadata": {},
     "output_type": "execute_result"
    }
   ],
   "source": [
    "dict2 = {\n",
    "    'isim' : 'Akin',\n",
    "    'yas' : 20,\n",
    "    'konum' : {\n",
    "        'doğduğu_yer' : 'Karsiyaka',\n",
    "        'yasadiği_yer' : 'America' #Gelecekte olacak yer\n",
    "    }\n",
    "}\n",
    "dict2"
   ]
  },
  {
   "cell_type": "code",
   "execution_count": 48,
   "id": "8263870e-9ab2-4d9e-85f1-8a315fd38b01",
   "metadata": {},
   "outputs": [
    {
     "data": {
      "text/plain": [
       "20"
      ]
     },
     "execution_count": 48,
     "metadata": {},
     "output_type": "execute_result"
    }
   ],
   "source": [
    "dict1['yas']"
   ]
  },
  {
   "cell_type": "code",
   "execution_count": 50,
   "id": "db1f503e-6cd2-4833-9b10-02ed12d39e14",
   "metadata": {},
   "outputs": [
    {
     "data": {
      "text/plain": [
       "{'doğduğu_yer': 'Karsiyaka', 'yasadiği_yer': 'America'}"
      ]
     },
     "execution_count": 50,
     "metadata": {},
     "output_type": "execute_result"
    }
   ],
   "source": [
    "dict2['konum']"
   ]
  },
  {
   "cell_type": "code",
   "execution_count": 52,
   "id": "043f29f1-c510-4226-9746-170ececfbbd5",
   "metadata": {},
   "outputs": [
    {
     "data": {
      "text/plain": [
       "'America'"
      ]
     },
     "execution_count": 52,
     "metadata": {},
     "output_type": "execute_result"
    }
   ],
   "source": [
    "dict2['konum']['yasadiği_yer']"
   ]
  },
  {
   "cell_type": "code",
   "execution_count": 58,
   "id": "05fae5a6-e255-4f39-bbce-6886889c9373",
   "metadata": {},
   "outputs": [
    {
     "data": {
      "text/plain": [
       "20"
      ]
     },
     "execution_count": 58,
     "metadata": {},
     "output_type": "execute_result"
    }
   ],
   "source": [
    "dict2.get('yas')"
   ]
  },
  {
   "cell_type": "code",
   "execution_count": 60,
   "id": "3affe78d-bd0b-44b1-b1c2-78b715148638",
   "metadata": {},
   "outputs": [
    {
     "data": {
      "text/plain": [
       "dict_keys(['isim', 'yas', 'konum'])"
      ]
     },
     "execution_count": 60,
     "metadata": {},
     "output_type": "execute_result"
    }
   ],
   "source": [
    "dict2.keys()"
   ]
  },
  {
   "cell_type": "code",
   "execution_count": 70,
   "id": "68b74829-f543-4d75-bb9a-0c560439ab8f",
   "metadata": {},
   "outputs": [
    {
     "data": {
      "text/plain": [
       "dict_values(['Akin', 20, {'doğduğu_yer': 'Karsiyaka', 'yasadiği_yer': 'America'}])"
      ]
     },
     "execution_count": 70,
     "metadata": {},
     "output_type": "execute_result"
    }
   ],
   "source": [
    "dict2.values()"
   ]
  },
  {
   "cell_type": "code",
   "execution_count": 72,
   "id": "9b1a9b8d-6806-4669-ac3c-37905458a774",
   "metadata": {},
   "outputs": [
    {
     "data": {
      "text/plain": [
       "dict_items([('isim', 'Akin'), ('yas', 20), ('konum', {'doğduğu_yer': 'Karsiyaka', 'yasadiği_yer': 'America'})])"
      ]
     },
     "execution_count": 72,
     "metadata": {},
     "output_type": "execute_result"
    }
   ],
   "source": [
    "dict2.items()"
   ]
  },
  {
   "cell_type": "code",
   "execution_count": null,
   "id": "fccfda83-81ee-4ef8-b91b-e4eb70624229",
   "metadata": {},
   "outputs": [],
   "source": []
  }
 ],
 "metadata": {
  "kernelspec": {
   "display_name": "Python 3 (ipykernel)",
   "language": "python",
   "name": "python3"
  },
  "language_info": {
   "codemirror_mode": {
    "name": "ipython",
    "version": 3
   },
   "file_extension": ".py",
   "mimetype": "text/x-python",
   "name": "python",
   "nbconvert_exporter": "python",
   "pygments_lexer": "ipython3",
   "version": "3.12.4"
  }
 },
 "nbformat": 4,
 "nbformat_minor": 5
}
