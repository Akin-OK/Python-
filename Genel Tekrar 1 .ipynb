{
 "cells": [
  {
   "cell_type": "code",
   "execution_count": 1,
   "id": "da5a1910-1df9-410b-b3ac-0051c707cf6a",
   "metadata": {},
   "outputs": [
    {
     "name": "stdout",
     "output_type": "stream",
     "text": [
      "Python\n"
     ]
    }
   ],
   "source": [
    "str1 = 'Python'\n",
    "print(str1)"
   ]
  },
  {
   "cell_type": "code",
   "execution_count": 3,
   "id": "f0080f50-3846-4460-96f2-d3fd94f00cc5",
   "metadata": {},
   "outputs": [
    {
     "data": {
      "text/plain": [
       "'P'"
      ]
     },
     "execution_count": 3,
     "metadata": {},
     "output_type": "execute_result"
    }
   ],
   "source": [
    "str1[0]"
   ]
  },
  {
   "cell_type": "code",
   "execution_count": 5,
   "id": "387aab36-acc9-4ff1-b28b-a940a7fb2465",
   "metadata": {},
   "outputs": [
    {
     "data": {
      "text/plain": [
       "'h'"
      ]
     },
     "execution_count": 5,
     "metadata": {},
     "output_type": "execute_result"
    }
   ],
   "source": [
    "str1[3]"
   ]
  },
  {
   "cell_type": "code",
   "execution_count": 9,
   "id": "0c077a7f-3a9a-45ad-bca5-cd206719cb24",
   "metadata": {},
   "outputs": [
    {
     "data": {
      "text/plain": [
       "'Pytho'"
      ]
     },
     "execution_count": 9,
     "metadata": {},
     "output_type": "execute_result"
    }
   ],
   "source": [
    "str1[ : 5 ]"
   ]
  },
  {
   "cell_type": "code",
   "execution_count": 13,
   "id": "a3ebffe6-b2fb-408e-8207-bee47173fcb5",
   "metadata": {},
   "outputs": [
    {
     "data": {
      "text/plain": [
       "'tho'"
      ]
     },
     "execution_count": 13,
     "metadata": {},
     "output_type": "execute_result"
    }
   ],
   "source": [
    "str1[2 : 5 ]"
   ]
  },
  {
   "cell_type": "code",
   "execution_count": 19,
   "id": "1e79a565-04e1-47d8-8cd0-f5a5ced25dd8",
   "metadata": {},
   "outputs": [
    {
     "data": {
      "text/plain": [
       "'yh'"
      ]
     },
     "execution_count": 19,
     "metadata": {},
     "output_type": "execute_result"
    }
   ],
   "source": [
    "str1[1:5:2]"
   ]
  },
  {
   "cell_type": "code",
   "execution_count": 21,
   "id": "536425ef-ed08-446c-a436-11d0bf22399c",
   "metadata": {},
   "outputs": [
    {
     "data": {
      "text/plain": [
       "6"
      ]
     },
     "execution_count": 21,
     "metadata": {},
     "output_type": "execute_result"
    }
   ],
   "source": [
    "len(str1)"
   ]
  },
  {
   "cell_type": "markdown",
   "id": "c38d50c8-fbe7-4c5c-a0bf-5dc1d6ecb791",
   "metadata": {},
   "source": [
    "str1"
   ]
  },
  {
   "cell_type": "code",
   "execution_count": 32,
   "id": "8bc51edb-a4e6-476d-9aa2-b99e450cf1c2",
   "metadata": {},
   "outputs": [
    {
     "data": {
      "text/plain": [
       "'Pythonogren ogrenogren'"
      ]
     },
     "execution_count": 32,
     "metadata": {},
     "output_type": "execute_result"
    }
   ],
   "source": [
    "str1"
   ]
  },
  {
   "cell_type": "code",
   "execution_count": 36,
   "id": "2fede6e1-5fb7-4cdf-b308-6a8925b4c55b",
   "metadata": {},
   "outputs": [
    {
     "name": "stdout",
     "output_type": "stream",
     "text": [
      "Python ogren\n"
     ]
    }
   ],
   "source": [
    "str2 = 'Python'\n",
    "str2 = str2 + ' ogren'\n",
    "print(str2)"
   ]
  },
  {
   "cell_type": "code",
   "execution_count": 38,
   "id": "e8b1e1a4-c1f0-4fe1-99b1-e66adedf4e2d",
   "metadata": {},
   "outputs": [
    {
     "data": {
      "text/plain": [
       "'PYTHON OGREN'"
      ]
     },
     "execution_count": 38,
     "metadata": {},
     "output_type": "execute_result"
    }
   ],
   "source": [
    "str2.upper()"
   ]
  },
  {
   "cell_type": "code",
   "execution_count": 40,
   "id": "5866079e-8a23-4cd3-9fa0-39d76c65f5e3",
   "metadata": {},
   "outputs": [
    {
     "data": {
      "text/plain": [
       "'python ogren'"
      ]
     },
     "execution_count": 40,
     "metadata": {},
     "output_type": "execute_result"
    }
   ],
   "source": [
    "str2.lower()"
   ]
  },
  {
   "cell_type": "code",
   "execution_count": 42,
   "id": "11ae694e-0da6-423f-873d-3f434cb72d3c",
   "metadata": {},
   "outputs": [
    {
     "data": {
      "text/plain": [
       "['Python', 'ogren']"
      ]
     },
     "execution_count": 42,
     "metadata": {},
     "output_type": "execute_result"
    }
   ],
   "source": [
    "str2.split()"
   ]
  },
  {
   "cell_type": "code",
   "execution_count": 52,
   "id": "84c9a0f1-37d9-4438-b39a-4f494d946cfa",
   "metadata": {},
   "outputs": [
    {
     "data": {
      "text/plain": [
       "['Pyth', 'n ', 'gren']"
      ]
     },
     "execution_count": 52,
     "metadata": {},
     "output_type": "execute_result"
    }
   ],
   "source": [
    "str2.split('o')"
   ]
  },
  {
   "cell_type": "code",
   "execution_count": 54,
   "id": "733003c0-340b-4a5c-8f1d-f477843b272b",
   "metadata": {},
   "outputs": [
    {
     "data": {
      "text/plain": [
       "['Pytho', ' ogre', '']"
      ]
     },
     "execution_count": 54,
     "metadata": {},
     "output_type": "execute_result"
    }
   ],
   "source": [
    "str2.split('n')"
   ]
  },
  {
   "cell_type": "code",
   "execution_count": 62,
   "id": "af01e1f6-a44c-49d6-b8b2-c94d27d66fe1",
   "metadata": {},
   "outputs": [
    {
     "name": "stdout",
     "output_type": "stream",
     "text": [
      "True\n",
      "True\n",
      "True\n",
      "<class 'bool'>\n",
      "<class 'bool'>\n",
      "<class 'str'>\n"
     ]
    }
   ],
   "source": [
    "a = True \n",
    "print(a)\n",
    "b = True\n",
    "print(b)\n",
    "c = 'True'\n",
    "print(c)\n",
    "print(type(a))\n",
    "print(type(b))\n",
    "print(type(c))\n"
   ]
  },
  {
   "cell_type": "code",
   "execution_count": 66,
   "id": "2031d64a-4031-412f-947e-2c9fa0895a9c",
   "metadata": {},
   "outputs": [
    {
     "name": "stdout",
     "output_type": "stream",
     "text": [
      "True\n",
      "False\n"
     ]
    }
   ],
   "source": [
    "yas1 = 20\n",
    "yas2 = 18\n",
    "print(yas1>18)\n",
    "print(yas2>18)\n"
   ]
  },
  {
   "cell_type": "code",
   "execution_count": 70,
   "id": "083811b5-b6bb-4ca9-9c1a-020e606c8a07",
   "metadata": {},
   "outputs": [
    {
     "data": {
      "text/plain": [
       "True"
      ]
     },
     "execution_count": 70,
     "metadata": {},
     "output_type": "execute_result"
    }
   ],
   "source": [
    "yas1 != 18\n"
   ]
  },
  {
   "cell_type": "code",
   "execution_count": 76,
   "id": "98c1bc25-db91-4dcd-80f3-3045190851a3",
   "metadata": {},
   "outputs": [
    {
     "data": {
      "text/plain": [
       "True"
      ]
     },
     "execution_count": 76,
     "metadata": {},
     "output_type": "execute_result"
    }
   ],
   "source": [
    " not yas2 >18"
   ]
  },
  {
   "cell_type": "code",
   "execution_count": 131,
   "id": "025853a1-6260-402a-bc72-4410448b214e",
   "metadata": {},
   "outputs": [
    {
     "name": "stdout",
     "output_type": "stream",
     "text": [
      "['a', 'b', 'c', 'd', 'e', 'a', 'g', 'g', 'g', 'g', 'g', 'g', 'g', 'g', 'g', 'g', 'g', 'g']\n"
     ]
    }
   ],
   "source": [
    "liste1 = ['a' , 'b' , 'c' , 'd' , 'e' , 'a']\n",
    "print(liste)"
   ]
  },
  {
   "cell_type": "code",
   "execution_count": 149,
   "id": "335f404e-c469-45f8-81d6-d718ae52b69d",
   "metadata": {},
   "outputs": [
    {
     "data": {
      "text/plain": [
       "['a', 'b', 'c', 'd', 'e', 'f']"
      ]
     },
     "execution_count": 149,
     "metadata": {},
     "output_type": "execute_result"
    }
   ],
   "source": [
    "liste1 + ['f']"
   ]
  },
  {
   "cell_type": "code",
   "execution_count": 153,
   "id": "fadcbf3e-8367-4232-ada7-a3036820961e",
   "metadata": {},
   "outputs": [
    {
     "data": {
      "text/plain": [
       "'d'"
      ]
     },
     "execution_count": 153,
     "metadata": {},
     "output_type": "execute_result"
    }
   ],
   "source": [
    "liste1[3]"
   ]
  },
  {
   "cell_type": "code",
   "execution_count": 155,
   "id": "2e2b8e44-d5e7-44a8-b364-8200307091ed",
   "metadata": {},
   "outputs": [
    {
     "data": {
      "text/plain": [
       "['c', 'd', 'e']"
      ]
     },
     "execution_count": 155,
     "metadata": {},
     "output_type": "execute_result"
    }
   ],
   "source": [
    "liste1 [2:6]"
   ]
  },
  {
   "cell_type": "code",
   "execution_count": 157,
   "id": "f8489973-4bdd-46e6-98ad-b9c7d48f41c9",
   "metadata": {},
   "outputs": [
    {
     "data": {
      "text/plain": [
       "['c', 'e']"
      ]
     },
     "execution_count": 157,
     "metadata": {},
     "output_type": "execute_result"
    }
   ],
   "source": [
    "liste1 [2:6:2]"
   ]
  },
  {
   "cell_type": "code",
   "execution_count": 141,
   "id": "e611313d-55e1-41c9-9dc7-e5a3f46d78d6",
   "metadata": {},
   "outputs": [
    {
     "data": {
      "text/plain": [
       "['a', 'b', 'c', 'd', 'e', 'a', 'g']"
      ]
     },
     "execution_count": 141,
     "metadata": {},
     "output_type": "execute_result"
    }
   ],
   "source": [
    "liste1.append('g')\n",
    "liste1"
   ]
  },
  {
   "cell_type": "code",
   "execution_count": 143,
   "id": "9efafe90-96b7-4cdb-bf67-edc3e36a04cc",
   "metadata": {},
   "outputs": [
    {
     "data": {
      "text/plain": [
       "'g'"
      ]
     },
     "execution_count": 143,
     "metadata": {},
     "output_type": "execute_result"
    }
   ],
   "source": [
    "liste1.pop()"
   ]
  },
  {
   "cell_type": "code",
   "execution_count": 145,
   "id": "8f660a16-1bca-48a7-9bba-e243dcb327e0",
   "metadata": {},
   "outputs": [
    {
     "data": {
      "text/plain": [
       "'a'"
      ]
     },
     "execution_count": 145,
     "metadata": {},
     "output_type": "execute_result"
    }
   ],
   "source": [
    "liste1.pop(5)"
   ]
  },
  {
   "cell_type": "code",
   "execution_count": 159,
   "id": "5b6ed4cb-b300-418c-800e-5f8d0dd03a1e",
   "metadata": {},
   "outputs": [
    {
     "data": {
      "text/plain": [
       "['a', 'b', 'c', 'd', 'e']"
      ]
     },
     "execution_count": 159,
     "metadata": {},
     "output_type": "execute_result"
    }
   ],
   "source": [
    "liste1"
   ]
  },
  {
   "cell_type": "code",
   "execution_count": 163,
   "id": "ed51fc19-6f82-4b0f-ad24-44e8a76908b2",
   "metadata": {},
   "outputs": [],
   "source": [
    "liste1.append('f')"
   ]
  },
  {
   "cell_type": "code",
   "execution_count": 165,
   "id": "b2fa6eed-418d-4ac2-b626-e375458b5d97",
   "metadata": {},
   "outputs": [
    {
     "data": {
      "text/plain": [
       "['a', 'b', 'c', 'd', 'e', 'f']"
      ]
     },
     "execution_count": 165,
     "metadata": {},
     "output_type": "execute_result"
    }
   ],
   "source": [
    "liste1"
   ]
  },
  {
   "cell_type": "code",
   "execution_count": 167,
   "id": "fa0afad9-fe8f-49a9-b6d1-db9f8b02257d",
   "metadata": {},
   "outputs": [],
   "source": [
    "sayilar = [23,65,667,89,54,23,11,11,4,]\n",
    "sayilar.sort()"
   ]
  },
  {
   "cell_type": "code",
   "execution_count": 169,
   "id": "406edd17-da69-4c27-82b6-baddd26cd6c4",
   "metadata": {},
   "outputs": [
    {
     "data": {
      "text/plain": [
       "[4, 11, 11, 23, 23, 54, 65, 89, 667]"
      ]
     },
     "execution_count": 169,
     "metadata": {},
     "output_type": "execute_result"
    }
   ],
   "source": [
    "sayilar"
   ]
  },
  {
   "cell_type": "code",
   "execution_count": 171,
   "id": "9a9fe31f-0b4c-4c04-afd4-eca0c63d64eb",
   "metadata": {},
   "outputs": [],
   "source": [
    "sayilar.reverse()"
   ]
  },
  {
   "cell_type": "code",
   "execution_count": 175,
   "id": "7ad49ebc-4d20-4f6f-aa7b-5ef07bcb6c03",
   "metadata": {},
   "outputs": [
    {
     "data": {
      "text/plain": [
       "[667, 89, 65, 54, 23, 23, 11, 11, 4]"
      ]
     },
     "execution_count": 175,
     "metadata": {},
     "output_type": "execute_result"
    }
   ],
   "source": [
    "sayilar"
   ]
  },
  {
   "cell_type": "code",
   "execution_count": 179,
   "id": "650b8955-8886-48b8-8c57-e37c78da8242",
   "metadata": {},
   "outputs": [
    {
     "data": {
      "text/plain": [
       "{'a', 'i', 'l', 'r', 's', 'y'}"
      ]
     },
     "execution_count": 179,
     "metadata": {},
     "output_type": "execute_result"
    }
   ],
   "source": [
    "set('sayilar')"
   ]
  },
  {
   "cell_type": "code",
   "execution_count": 183,
   "id": "6532f946-3305-4728-862c-76f75c35becb",
   "metadata": {},
   "outputs": [
    {
     "name": "stdout",
     "output_type": "stream",
     "text": [
      "['a', 'b', 'c', 'd', 'e', 'a']\n",
      "('a', 'b', 'c', 'd', 'e', 'a')\n"
     ]
    }
   ],
   "source": [
    "liste2 = ['a' , 'b' , 'c' , 'd' , 'e' , 'a']\n",
    "print(liste2)\n",
    "tup = ('a' , 'b' , 'c' , 'd' , 'e' , 'a')\n",
    "print(tup)"
   ]
  },
  {
   "cell_type": "code",
   "execution_count": 185,
   "id": "5906b027-998a-49cc-a5e2-9d9ae5ca9c38",
   "metadata": {},
   "outputs": [
    {
     "name": "stdout",
     "output_type": "stream",
     "text": [
      "[123, 'b', 'c', 'd', 'e', 'a']\n"
     ]
    }
   ],
   "source": [
    "liste2[0] = 123\n",
    "print(liste2)"
   ]
  },
  {
   "cell_type": "code",
   "execution_count": 191,
   "id": "4389faba-3387-4ac0-9c7b-20b0dfb1cb96",
   "metadata": {},
   "outputs": [
    {
     "data": {
      "text/plain": [
       "2"
      ]
     },
     "execution_count": 191,
     "metadata": {},
     "output_type": "execute_result"
    }
   ],
   "source": [
    "tup.count('a')"
   ]
  },
  {
   "cell_type": "code",
   "execution_count": 195,
   "id": "1da79129-7050-439e-8a73-0ee319cfaed4",
   "metadata": {},
   "outputs": [
    {
     "data": {
      "text/plain": [
       "0"
      ]
     },
     "execution_count": 195,
     "metadata": {},
     "output_type": "execute_result"
    }
   ],
   "source": [
    "tup.index('a')"
   ]
  },
  {
   "cell_type": "code",
   "execution_count": 205,
   "id": "affc6b06-a838-406d-bf7c-98b2291468d0",
   "metadata": {},
   "outputs": [
    {
     "name": "stdout",
     "output_type": "stream",
     "text": [
      "{'isim': 'Akin', 'yas': 20, 'konum': 'İzmir'}\n"
     ]
    }
   ],
   "source": [
    "dict1 = {'isim' :  'Akin'  , 'yas' : 20 , 'konum' : 'İzmir'}\n",
    "print(dict1)"
   ]
  },
  {
   "cell_type": "code",
   "execution_count": 209,
   "id": "a7ee8631-12b8-4b5e-8f36-5904a643e3d4",
   "metadata": {},
   "outputs": [
    {
     "data": {
      "text/plain": [
       "{'isim': 'Akin', 'yas': 20, 'konum': 'İzmir'}"
      ]
     },
     "execution_count": 209,
     "metadata": {},
     "output_type": "execute_result"
    }
   ],
   "source": [
    "dict1 = {\n",
    "    'isim' :  'Akin'  ,\n",
    "    'yas' : 20 ,\n",
    "    'konum' : 'İzmir'\n",
    "}\n",
    "dict1"
   ]
  },
  {
   "cell_type": "code",
   "execution_count": 215,
   "id": "3a490ac8-71c1-4ae5-ae9b-373768d84f98",
   "metadata": {},
   "outputs": [
    {
     "data": {
      "text/plain": [
       "{'isim': 'Akin',\n",
       " 'yas': 20,\n",
       " 'konum': {'doğduğu yer': 'İzmir', 'yasadiği yer': 'America'}}"
      ]
     },
     "execution_count": 215,
     "metadata": {},
     "output_type": "execute_result"
    }
   ],
   "source": [
    "dict1 = {\n",
    "    'isim' :  'Akin'  ,\n",
    "    'yas' : 20 ,\n",
    "    'konum' :  {\n",
    "    'doğduğu yer' : 'İzmir' ,\n",
    "    'yasadiği yer' : 'America'\n",
    "    }\n",
    "} \n",
    "dict1"
   ]
  },
  {
   "cell_type": "code",
   "execution_count": 217,
   "id": "bff8fbe5-e364-4581-86ca-d44b1e36bfb1",
   "metadata": {},
   "outputs": [
    {
     "data": {
      "text/plain": [
       "{'isim': 'Akin',\n",
       " 'yas': 20,\n",
       " 'konum': {'doğduğu yer': 'İzmir', 'yasadiği yer': 'America'}}"
      ]
     },
     "execution_count": 217,
     "metadata": {},
     "output_type": "execute_result"
    }
   ],
   "source": [
    "dict1 = {# Bu sadece denemek için hazırlanmış bir sayfadır\n",
    "    'isim' :  'Akin'  ,\n",
    "    'yas' : 20 ,\n",
    "    'konum' :  {\n",
    "    'doğduğu yer' : 'İzmir' ,\n",
    "    'yasadiği yer' : 'America'\n",
    "    }\n",
    "} \n",
    "dict1"
   ]
  },
  {
   "cell_type": "code",
   "execution_count": 219,
   "id": "5f25d6ae-b5e2-4422-898d-ae5d4fdfbd94",
   "metadata": {},
   "outputs": [
    {
     "data": {
      "text/plain": [
       "20"
      ]
     },
     "execution_count": 219,
     "metadata": {},
     "output_type": "execute_result"
    }
   ],
   "source": [
    "dict1['yas']"
   ]
  },
  {
   "cell_type": "code",
   "execution_count": 221,
   "id": "385ffbb9-58ff-4f06-bdec-e505e3159793",
   "metadata": {},
   "outputs": [
    {
     "data": {
      "text/plain": [
       "'Akin'"
      ]
     },
     "execution_count": 221,
     "metadata": {},
     "output_type": "execute_result"
    }
   ],
   "source": [
    "dict1['isim']"
   ]
  },
  {
   "cell_type": "code",
   "execution_count": 225,
   "id": "01a6e2db-5a92-4abc-85be-8d8e5c4cffe0",
   "metadata": {},
   "outputs": [
    {
     "data": {
      "text/plain": [
       "20"
      ]
     },
     "execution_count": 225,
     "metadata": {},
     "output_type": "execute_result"
    }
   ],
   "source": [
    "dict1.get('yas')"
   ]
  },
  {
   "cell_type": "code",
   "execution_count": 229,
   "id": "04a70bc5-51ab-4444-b0bb-fc1a82a7b3e4",
   "metadata": {},
   "outputs": [
    {
     "data": {
      "text/plain": [
       "dict_keys(['isim', 'yas', 'konum'])"
      ]
     },
     "execution_count": 229,
     "metadata": {},
     "output_type": "execute_result"
    }
   ],
   "source": [
    "dict1.keys()"
   ]
  },
  {
   "cell_type": "code",
   "execution_count": 231,
   "id": "08d2bc63-332f-40a0-86ed-fba8de3191cd",
   "metadata": {},
   "outputs": [
    {
     "data": {
      "text/plain": [
       "dict_values(['Akin', 20, {'doğduğu yer': 'İzmir', 'yasadiği yer': 'America'}])"
      ]
     },
     "execution_count": 231,
     "metadata": {},
     "output_type": "execute_result"
    }
   ],
   "source": [
    "dict1.values()"
   ]
  },
  {
   "cell_type": "code",
   "execution_count": 233,
   "id": "23525d51-7cd1-43c3-9dbb-a65bfbdb14e6",
   "metadata": {},
   "outputs": [
    {
     "data": {
      "text/plain": [
       "dict_items([('isim', 'Akin'), ('yas', 20), ('konum', {'doğduğu yer': 'İzmir', 'yasadiği yer': 'America'})])"
      ]
     },
     "execution_count": 233,
     "metadata": {},
     "output_type": "execute_result"
    }
   ],
   "source": [
    "dict1.items()"
   ]
  },
  {
   "cell_type": "code",
   "execution_count": null,
   "id": "d226ae3d-b5af-4583-a603-8684ad1633a3",
   "metadata": {},
   "outputs": [],
   "source": []
  }
 ],
 "metadata": {
  "kernelspec": {
   "display_name": "Python 3 (ipykernel)",
   "language": "python",
   "name": "python3"
  },
  "language_info": {
   "codemirror_mode": {
    "name": "ipython",
    "version": 3
   },
   "file_extension": ".py",
   "mimetype": "text/x-python",
   "name": "python",
   "nbconvert_exporter": "python",
   "pygments_lexer": "ipython3",
   "version": "3.12.4"
  }
 },
 "nbformat": 4,
 "nbformat_minor": 5
}
