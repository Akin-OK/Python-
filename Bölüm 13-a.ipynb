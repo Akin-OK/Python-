{
 "cells": [
  {
   "cell_type": "code",
   "execution_count": null,
   "id": "767c21de-6f57-40b2-97ac-133505322878",
   "metadata": {},
   "outputs": [],
   "source": [
    "Range"
   ]
  },
  {
   "cell_type": "code",
   "execution_count": 1,
   "id": "546d7c48-8aeb-4056-8005-cf6e1222d0db",
   "metadata": {},
   "outputs": [
    {
     "data": {
      "text/plain": [
       "range"
      ]
     },
     "execution_count": 1,
     "metadata": {},
     "output_type": "execute_result"
    }
   ],
   "source": [
    "type(range(10))"
   ]
  },
  {
   "cell_type": "code",
   "execution_count": 3,
   "id": "ab98afad-6b56-48cf-b9a0-ae8399a38158",
   "metadata": {},
   "outputs": [
    {
     "data": {
      "text/plain": [
       "[0, 1, 2, 3, 4, 5, 6, 7, 8, 9]"
      ]
     },
     "execution_count": 3,
     "metadata": {},
     "output_type": "execute_result"
    }
   ],
   "source": [
    "list(range(10))"
   ]
  },
  {
   "cell_type": "code",
   "execution_count": 5,
   "id": "b071b70e-9e18-4b4b-810a-a4ce99bb2790",
   "metadata": {},
   "outputs": [
    {
     "data": {
      "text/plain": [
       "list"
      ]
     },
     "execution_count": 5,
     "metadata": {},
     "output_type": "execute_result"
    }
   ],
   "source": [
    "liste = [1,2,3,4,5,6,7,8,9]\n",
    "type(liste)"
   ]
  },
  {
   "cell_type": "code",
   "execution_count": 7,
   "id": "0de245da-7547-4c2e-ac73-06963d23c691",
   "metadata": {},
   "outputs": [
    {
     "data": {
      "text/plain": [
       "[0, 1, 2, 3, 4, 5, 6, 7, 8, 9]"
      ]
     },
     "execution_count": 7,
     "metadata": {},
     "output_type": "execute_result"
    }
   ],
   "source": [
    "[*range(10)]"
   ]
  },
  {
   "cell_type": "code",
   "execution_count": 9,
   "id": "0c257f88-aed7-4ff6-95ee-c5ba52eae1b8",
   "metadata": {},
   "outputs": [
    {
     "data": {
      "text/plain": [
       "range(2, 7)"
      ]
     },
     "execution_count": 9,
     "metadata": {},
     "output_type": "execute_result"
    }
   ],
   "source": [
    "range(2,7)"
   ]
  },
  {
   "cell_type": "code",
   "execution_count": 11,
   "id": "c03be2c3-8e87-434d-9adf-b27b53edcae6",
   "metadata": {},
   "outputs": [
    {
     "name": "stdout",
     "output_type": "stream",
     "text": [
      "range(2, 7)\n"
     ]
    }
   ],
   "source": [
    "print(range(2,7))"
   ]
  },
  {
   "cell_type": "code",
   "execution_count": 13,
   "id": "f39b0648-7b97-4ea2-9e1c-7dc6aea01c9c",
   "metadata": {},
   "outputs": [
    {
     "data": {
      "text/plain": [
       "[2, 3, 4, 5, 6]"
      ]
     },
     "execution_count": 13,
     "metadata": {},
     "output_type": "execute_result"
    }
   ],
   "source": [
    "[*range(2,7)]"
   ]
  },
  {
   "cell_type": "code",
   "execution_count": 15,
   "id": "98e64e71-1499-4a8b-82d5-707cd123bdf7",
   "metadata": {},
   "outputs": [
    {
     "data": {
      "text/plain": [
       "[2, 4, 6]"
      ]
     },
     "execution_count": 15,
     "metadata": {},
     "output_type": "execute_result"
    }
   ],
   "source": [
    "[*range(2,7,2)]"
   ]
  },
  {
   "cell_type": "code",
   "execution_count": 17,
   "id": "687dbbb9-0056-4dab-90a2-140aec429ddf",
   "metadata": {},
   "outputs": [
    {
     "name": "stdout",
     "output_type": "stream",
     "text": [
      "0\n",
      "1\n",
      "2\n",
      "3\n",
      "4\n",
      "5\n",
      "6\n",
      "7\n",
      "8\n",
      "9\n"
     ]
    }
   ],
   "source": [
    "for sayi in range(10):\n",
    "    print(sayi)"
   ]
  },
  {
   "cell_type": "code",
   "execution_count": 21,
   "id": "037320c2-8380-4a67-91f3-55792644597f",
   "metadata": {},
   "outputs": [
    {
     "name": "stdout",
     "output_type": "stream",
     "text": [
      "6\n",
      "7\n",
      "8\n",
      "9\n"
     ]
    }
   ],
   "source": [
    "for sayi in range(10):\n",
    "    if sayi >5 :\n",
    "        print(sayi)"
   ]
  },
  {
   "cell_type": "code",
   "execution_count": null,
   "id": "8ea15665-f0c4-44be-8b99-5debc7f1387a",
   "metadata": {},
   "outputs": [],
   "source": []
  }
 ],
 "metadata": {
  "kernelspec": {
   "display_name": "Python 3 (ipykernel)",
   "language": "python",
   "name": "python3"
  },
  "language_info": {
   "codemirror_mode": {
    "name": "ipython",
    "version": 3
   },
   "file_extension": ".py",
   "mimetype": "text/x-python",
   "name": "python",
   "nbconvert_exporter": "python",
   "pygments_lexer": "ipython3",
   "version": "3.12.4"
  }
 },
 "nbformat": 4,
 "nbformat_minor": 5
}
