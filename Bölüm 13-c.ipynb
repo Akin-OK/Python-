{
 "cells": [
  {
   "cell_type": "markdown",
   "id": "312abf4c-dac4-4870-89f0-1934da16c2af",
   "metadata": {},
   "source": [
    "Zip"
   ]
  },
  {
   "cell_type": "code",
   "execution_count": 1,
   "id": "ec00a120-36b5-4a9f-89df-4ae5a767dc50",
   "metadata": {},
   "outputs": [
    {
     "name": "stdout",
     "output_type": "stream",
     "text": [
      "('TR', 1)\n",
      "('FR', 2)\n",
      "('DE', 3)\n"
     ]
    }
   ],
   "source": [
    "ulkeler = ['TR' , 'FR' , 'DE']\n",
    "siralamalar = range(1,4)\n",
    "\n",
    "for ulke in zip(ulkeler,siralamalar):\n",
    "    print(ulke)"
   ]
  },
  {
   "cell_type": "code",
   "execution_count": 3,
   "id": "09d99eaa-f39b-4121-aec1-338994858c56",
   "metadata": {},
   "outputs": [
    {
     "name": "stdout",
     "output_type": "stream",
     "text": [
      "TR\n",
      "FR\n",
      "DE\n"
     ]
    }
   ],
   "source": [
    "ulkeler = ['TR' , 'FR' , 'DE']\n",
    "siralamalar = range(1,4)\n",
    "\n",
    "for ulke,siralama in zip(ulkeler,siralamalar):\n",
    "    print(ulke)"
   ]
  },
  {
   "cell_type": "code",
   "execution_count": 5,
   "id": "0bbb5439-6ae7-4974-a158-ad2d3b8d6edb",
   "metadata": {},
   "outputs": [
    {
     "name": "stdout",
     "output_type": "stream",
     "text": [
      "1\n",
      "2\n",
      "3\n"
     ]
    }
   ],
   "source": [
    "ulkeler = ['TR' , 'FR' , 'DE']\n",
    "siralamalar = range(1,4)\n",
    "\n",
    "for ulke,siralama in zip(ulkeler,siralamalar):\n",
    "    print(siralama)"
   ]
  },
  {
   "cell_type": "code",
   "execution_count": null,
   "id": "8220d615-b609-4117-b699-f7789fdf69d6",
   "metadata": {},
   "outputs": [],
   "source": []
  }
 ],
 "metadata": {
  "kernelspec": {
   "display_name": "Python 3 (ipykernel)",
   "language": "python",
   "name": "python3"
  },
  "language_info": {
   "codemirror_mode": {
    "name": "ipython",
    "version": 3
   },
   "file_extension": ".py",
   "mimetype": "text/x-python",
   "name": "python",
   "nbconvert_exporter": "python",
   "pygments_lexer": "ipython3",
   "version": "3.12.4"
  }
 },
 "nbformat": 4,
 "nbformat_minor": 5
}
