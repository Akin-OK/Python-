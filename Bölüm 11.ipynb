{
 "cells": [
  {
   "cell_type": "markdown",
   "id": "12f0f4fb-c282-45bd-84b9-17e9376a70e8",
   "metadata": {},
   "source": [
    "#Tuple and Dictionary in For"
   ]
  },
  {
   "cell_type": "code",
   "execution_count": 17,
   "id": "7332193d-223d-49e7-a60e-026d4d6d2382",
   "metadata": {},
   "outputs": [
    {
     "name": "stdout",
     "output_type": "stream",
     "text": [
      "1\n",
      "3\n",
      "5\n"
     ]
    }
   ],
   "source": [
    "liste = [[1,2] , [3,4] , [5,6]]\n",
    "for x,y in liste:\n",
    "    print(x)"
   ]
  },
  {
   "cell_type": "code",
   "execution_count": 7,
   "id": "c5af41a0-4d1d-4b68-897d-637c004abf11",
   "metadata": {},
   "outputs": [
    {
     "name": "stdout",
     "output_type": "stream",
     "text": [
      "2\n",
      "4\n",
      "6\n"
     ]
    }
   ],
   "source": [
    "liste = [[1,2] , [3,4] , [5,6]]\n",
    "for x,y in liste:\n",
    "    print(y)"
   ]
  },
  {
   "cell_type": "code",
   "execution_count": 9,
   "id": "9e2eb90f-e4ae-48f4-a343-af8ad04c6add",
   "metadata": {},
   "outputs": [
    {
     "name": "stdout",
     "output_type": "stream",
     "text": [
      "2\n",
      "12\n",
      "30\n"
     ]
    }
   ],
   "source": [
    "liste = [[1,2] , [3,4] , [5,6]]\n",
    "for x,y in liste:\n",
    "    print(x*y)"
   ]
  },
  {
   "cell_type": "code",
   "execution_count": 11,
   "id": "064872ef-eb42-496c-b3a9-ba2b16f23963",
   "metadata": {},
   "outputs": [
    {
     "name": "stdout",
     "output_type": "stream",
     "text": [
      "3\n",
      "7\n",
      "11\n"
     ]
    }
   ],
   "source": [
    "liste = [[1,2] , [3,4] , [5,6]]\n",
    "for x,y in liste:\n",
    "    print(x+y)"
   ]
  },
  {
   "cell_type": "code",
   "execution_count": 13,
   "id": "67cfd8d7-c33e-4649-b8e4-44cd4d3dd5cc",
   "metadata": {},
   "outputs": [
    {
     "name": "stdout",
     "output_type": "stream",
     "text": [
      "Key : ad \t Value : Akin\n",
      "Key : soyad \t Value : Ok\n"
     ]
    }
   ],
   "source": [
    "dict1 = {\n",
    "    'ad' : 'Akin',\n",
    "    'soyad' : 'Ok'\n",
    "}\n",
    "\n",
    "for k,v in dict1.items():\n",
    "    print(\"Key : {} \\t Value : {}\".format(k,v))"
   ]
  },
  {
   "cell_type": "code",
   "execution_count": 19,
   "id": "ddb3e771-9159-4212-93d4-3bc7d96c9814",
   "metadata": {},
   "outputs": [
    {
     "name": "stdout",
     "output_type": "stream",
     "text": [
      "Key : ad\n",
      "Key : soyad\n"
     ]
    }
   ],
   "source": [
    "dict1 = {\n",
    "    'ad' : 'Akin',\n",
    "    'soyad' : 'Ok'\n",
    "}\n",
    "\n",
    "for k in dict1.keys():\n",
    "    print(\"Key : {}\".format(k))"
   ]
  },
  {
   "cell_type": "code",
   "execution_count": 23,
   "id": "775701d1-bc17-42d5-89b4-b5be4ebc6758",
   "metadata": {},
   "outputs": [
    {
     "name": "stdout",
     "output_type": "stream",
     "text": [
      "Value : Akin\n",
      "Value : Ok\n"
     ]
    }
   ],
   "source": [
    "dict1 = {\n",
    "    'ad' : 'Akin',\n",
    "    'soyad' : 'Ok'\n",
    "}\n",
    "\n",
    "for v in dict1.values():\n",
    "    print(\"Value : {}\".format(v))"
   ]
  },
  {
   "cell_type": "code",
   "execution_count": null,
   "id": "7f195060-6218-4f32-8cfb-ea73bcd08de1",
   "metadata": {},
   "outputs": [],
   "source": []
  }
 ],
 "metadata": {
  "kernelspec": {
   "display_name": "Python 3 (ipykernel)",
   "language": "python",
   "name": "python3"
  },
  "language_info": {
   "codemirror_mode": {
    "name": "ipython",
    "version": 3
   },
   "file_extension": ".py",
   "mimetype": "text/x-python",
   "name": "python",
   "nbconvert_exporter": "python",
   "pygments_lexer": "ipython3",
   "version": "3.12.4"
  }
 },
 "nbformat": 4,
 "nbformat_minor": 5
}
